{
  "nbformat": 4,
  "nbformat_minor": 0,
  "metadata": {
    "colab": {
      "name": "Web_scraping_assignment.ipynb",
      "provenance": [],
      "collapsed_sections": [],
      "toc_visible": true
    },
    "kernelspec": {
      "name": "python3",
      "display_name": "Python 3"
    }
  },
  "cells": [
    {
      "cell_type": "markdown",
      "metadata": {
        "id": "SCqfygtK_u6w",
        "colab_type": "text"
      },
      "source": [
        "# Web Scraping Assignment\n",
        "by Hannah, Hoda, Faluke"
      ]
    },
    {
      "cell_type": "markdown",
      "metadata": {
        "id": "qz8pk6JQDUzn",
        "colab_type": "text"
      },
      "source": [
        "# 1. Libraries"
      ]
    },
    {
      "cell_type": "code",
      "metadata": {
        "id": "OsbjZM-a_uBK",
        "colab_type": "code",
        "colab": {}
      },
      "source": [
        "import requests\n",
        "import pandas as pd\n",
        "from bs4 import BeautifulSoup\n",
        "import re\n",
        "import numpy as np\n",
        "import datetime as dt"
      ],
      "execution_count": null,
      "outputs": []
    },
    {
      "cell_type": "markdown",
      "metadata": {
        "id": "CH4EuWDEDXBw",
        "colab_type": "text"
      },
      "source": [
        "# 2. Dataset"
      ]
    },
    {
      "cell_type": "markdown",
      "metadata": {
        "id": "ftz_4yzXEIqH",
        "colab_type": "text"
      },
      "source": [
        "The dataset is from [goodreads]('https://www.goodreads.com') website. Using web scraping we can obtain the following dataframe."
      ]
    },
    {
      "cell_type": "code",
      "metadata": {
        "id": "8G6sV7jvEfyc",
        "colab_type": "code",
        "colab": {
          "base_uri": "https://localhost:8080/",
          "height": 272
        },
        "outputId": "47fa3176-c96e-4b46-e1f5-8a4088dfe050"
      },
      "source": [
        "url='https://www.goodreads.com/search?q=Kahlil+Gibran&search%5Bsource%5D=goodreads&search_type=books&tab=books'\n",
        "response=requests.get(url)\n",
        "response_j=response.content.decode(\"utf-8\")\n",
        "parser = BeautifulSoup(response_j, 'html.parser')\n",
        "info_lists=[]\n",
        "info=parser.find_all('td',valign=\"top\", width=\"100%\")\n",
        "for i in range(0,len(info)):\n",
        "    info_lists.append(info[i].text)\n",
        "for items in range(0,len(info_lists)):\n",
        "    match = re.findall(r'\\w.+', info_lists[items])\n",
        "    for i in range(0,len(match[3])):\n",
        "        if match[3][i]=='—':\n",
        "            av_rat=match[3][0:i]\n",
        "            rat_count=match[3][i+1:].strip()\n",
        "    for i in range(0,len(av_rat)):\n",
        "        if av_rat[i] == ' ':\n",
        "            av_rat_num=float(av_rat[0:i])\n",
        "            av_rat_str=av_rat[i+1:]\n",
        "            break\n",
        "    for i in range(0,len(rat_count)):\n",
        "        if rat_count[i] == ' ':\n",
        "            rat_count_num=rat_count[0:i]\n",
        "            rat_count_str=rat_count[i+1:]\n",
        "            break\n",
        "    edition_str=match[6]\n",
        "    for i in range(0,len(edition_str)):\n",
        "        if edition_str[i] == ' ':\n",
        "            edition_str_num=edition_str[0:i]\n",
        "            break\n",
        "    if match[5].isnumeric() == True:\n",
        "        year_published = match[5]\n",
        "    else:\n",
        "        year_published = match[6]\n",
        "    info_dict={'books_count':edition_str_num,rat_count_str:rat_count_num\\\n",
        "               ,'publication_year':year_published,av_rat_str:av_rat_num\\\n",
        "               ,'title':match[0]\\\n",
        "               ,'author_name':match[2]}\n",
        "    if items == 0:\n",
        "        df=pd.DataFrame([info_dict])\n",
        "    else:\n",
        "        df=pd.concat([df,pd.DataFrame([info_dict])],ignore_index=True)\n",
        "df.head()"
      ],
      "execution_count": null,
      "outputs": [
        {
          "output_type": "execute_result",
          "data": {
            "text/html": [
              "<div>\n",
              "<style scoped>\n",
              "    .dataframe tbody tr th:only-of-type {\n",
              "        vertical-align: middle;\n",
              "    }\n",
              "\n",
              "    .dataframe tbody tr th {\n",
              "        vertical-align: top;\n",
              "    }\n",
              "\n",
              "    .dataframe thead th {\n",
              "        text-align: right;\n",
              "    }\n",
              "</style>\n",
              "<table border=\"1\" class=\"dataframe\">\n",
              "  <thead>\n",
              "    <tr style=\"text-align: right;\">\n",
              "      <th></th>\n",
              "      <th>books_count</th>\n",
              "      <th>ratings</th>\n",
              "      <th>publication_year</th>\n",
              "      <th>avg rating</th>\n",
              "      <th>title</th>\n",
              "      <th>author_name</th>\n",
              "    </tr>\n",
              "  </thead>\n",
              "  <tbody>\n",
              "    <tr>\n",
              "      <th>0</th>\n",
              "      <td>200</td>\n",
              "      <td>227,075</td>\n",
              "      <td>1923</td>\n",
              "      <td>4.23</td>\n",
              "      <td>The Prophet</td>\n",
              "      <td>Kahlil Gibran</td>\n",
              "    </tr>\n",
              "    <tr>\n",
              "      <th>1</th>\n",
              "      <td>41</td>\n",
              "      <td>1,949</td>\n",
              "      <td>1947</td>\n",
              "      <td>4.42</td>\n",
              "      <td>The Treasured Writings of Kahlil Gibran</td>\n",
              "      <td>Kahlil Gibran</td>\n",
              "    </tr>\n",
              "    <tr>\n",
              "      <th>2</th>\n",
              "      <td>41</td>\n",
              "      <td>1,949</td>\n",
              "      <td>1972</td>\n",
              "      <td>4.42</td>\n",
              "      <td>نامه‌های عاشقانه‌ی یک پیامبر</td>\n",
              "      <td>Kahlil Gibran,</td>\n",
              "    </tr>\n",
              "    <tr>\n",
              "      <th>3</th>\n",
              "      <td>41</td>\n",
              "      <td>1,949</td>\n",
              "      <td>1964</td>\n",
              "      <td>4.42</td>\n",
              "      <td>المجموعة الكاملة لمؤلفات جبران خليل جبران</td>\n",
              "      <td>Kahlil Gibran,</td>\n",
              "    </tr>\n",
              "    <tr>\n",
              "      <th>4</th>\n",
              "      <td>41</td>\n",
              "      <td>1,949</td>\n",
              "      <td>1912</td>\n",
              "      <td>4.42</td>\n",
              "      <td>The Broken Wings</td>\n",
              "      <td>Kahlil Gibran,</td>\n",
              "    </tr>\n",
              "  </tbody>\n",
              "</table>\n",
              "</div>"
            ],
            "text/plain": [
              "  books_count  ...      author_name\n",
              "0         200  ...    Kahlil Gibran\n",
              "1          41  ...    Kahlil Gibran\n",
              "2          41  ...  Kahlil Gibran, \n",
              "3          41  ...  Kahlil Gibran, \n",
              "4          41  ...  Kahlil Gibran, \n",
              "\n",
              "[5 rows x 6 columns]"
            ]
          },
          "metadata": {
            "tags": []
          },
          "execution_count": 5
        }
      ]
    },
    {
      "cell_type": "markdown",
      "metadata": {
        "id": "2PYGQf1UD6P1",
        "colab_type": "text"
      },
      "source": [
        "However, the same dataframe can be formed by using an API offered by goodsread. The requested results returns a xml file (which is more straighforward), and also make sure the permission issues. \n",
        "\n",
        "The following request use a key word, represented by \"q\":\"key_word\" to get data. \n",
        "- The results contains key_word either in the title or in the author. \n",
        "- A total of 20 books searched in each request (for each page).\n",
        "\n"
      ]
    },
    {
      "cell_type": "code",
      "metadata": {
        "id": "EyYuNNrhAN8g",
        "colab_type": "code",
        "colab": {
          "base_uri": "https://localhost:8080/",
          "height": 162
        },
        "outputId": "a45d9747-82c7-4372-ea70-a67dc79fe327"
      },
      "source": [
        "df.head(2)"
      ],
      "execution_count": null,
      "outputs": [
        {
          "output_type": "execute_result",
          "data": {
            "text/html": [
              "<div>\n",
              "<style scoped>\n",
              "    .dataframe tbody tr th:only-of-type {\n",
              "        vertical-align: middle;\n",
              "    }\n",
              "\n",
              "    .dataframe tbody tr th {\n",
              "        vertical-align: top;\n",
              "    }\n",
              "\n",
              "    .dataframe thead th {\n",
              "        text-align: right;\n",
              "    }\n",
              "</style>\n",
              "<table border=\"1\" class=\"dataframe\">\n",
              "  <thead>\n",
              "    <tr style=\"text-align: right;\">\n",
              "      <th></th>\n",
              "      <th>books_count</th>\n",
              "      <th>ratings</th>\n",
              "      <th>publication_year</th>\n",
              "      <th>avg rating</th>\n",
              "      <th>title</th>\n",
              "      <th>author_name</th>\n",
              "    </tr>\n",
              "  </thead>\n",
              "  <tbody>\n",
              "    <tr>\n",
              "      <th>0</th>\n",
              "      <td>200</td>\n",
              "      <td>227,075</td>\n",
              "      <td>1923</td>\n",
              "      <td>4.23</td>\n",
              "      <td>The Prophet</td>\n",
              "      <td>Kahlil Gibran</td>\n",
              "    </tr>\n",
              "    <tr>\n",
              "      <th>1</th>\n",
              "      <td>41</td>\n",
              "      <td>1,949</td>\n",
              "      <td>1947</td>\n",
              "      <td>4.42</td>\n",
              "      <td>The Treasured Writings of Kahlil Gibran</td>\n",
              "      <td>Kahlil Gibran</td>\n",
              "    </tr>\n",
              "  </tbody>\n",
              "</table>\n",
              "</div>"
            ],
            "text/plain": [
              "  books_count  ratings  ...                                    title    author_name\n",
              "0         200  227,075  ...                              The Prophet  Kahlil Gibran\n",
              "1          41    1,949  ...  The Treasured Writings of Kahlil Gibran  Kahlil Gibran\n",
              "\n",
              "[2 rows x 6 columns]"
            ]
          },
          "metadata": {
            "tags": []
          },
          "execution_count": 6
        }
      ]
    },
    {
      "cell_type": "code",
      "metadata": {
        "id": "U-T_jFExFexU",
        "colab_type": "code",
        "colab": {}
      },
      "source": [
        "#generating the same DataFrame using the API\n",
        "authors = ['Kahlil Gibran', 'J.D. Salinger', 'J.K. Rowling', 'Franz Kafka', 'Ernest Hemingway']\n",
        "q_count = 1\n",
        "for q in authors:\n",
        "    for page in range(1,11):\n",
        "        respons = requests.get(\"https://www.goodreads.com/search/index.xml\", \\\n",
        "                               params={\"key\": \"Mk6YbRkCGRlliFxyxhV2iQ\",\"format\":\"json\", \"q\":q,'page':page\\\n",
        "                                       ,'search':'author'})\n",
        "        respons_j = respons.content.decode(\"utf-8\")\n",
        "        parser = BeautifulSoup(respons_j, 'html.parser')\n",
        "        results = parser.find_all('work')\n",
        "        for i in range(0,len(results)):\n",
        "            my_dict = {'id':results[i].id.text,'books_count':results[i].books_count.text\\\n",
        "                    ,'ratings_count':results[i].ratings_count.text\\\n",
        "                    ,'text_reviews_count':results[i].text_reviews_count.text\\\n",
        "                    ,'original_publication_year':results[i].original_publication_year.text\\\n",
        "                    ,'original_publication_month':results[i].original_publication_month.text\\\n",
        "                    ,'original_publication_day':results[i].original_publication_day.text\\\n",
        "                    ,'average_rating':results[i].average_rating.text,'title':results[i].best_book.title.text\\\n",
        "                    ,'author_id':results[i].best_book.author.id.text\\\n",
        "                    ,'author_name':results[i].best_book.author.find_all('name')[0].text\\\n",
        "                    ,'image_url':results[i].best_book.image_url.text}\n",
        "            if i == 0:\n",
        "                my_df = pd.DataFrame([my_dict])\n",
        "            else:\n",
        "                my_df = pd.concat([my_df,pd.DataFrame([my_dict])],ignore_index=True)\n",
        "        if q_count == 1:\n",
        "            if page == 1:\n",
        "                a_df = my_df.copy()\n",
        "            else:\n",
        "                a_df = pd.concat([a_df,my_df],ignore_index=True)\n",
        "        else:\n",
        "            a_df = pd.concat([a_df,my_df],ignore_index=True)\n",
        "        q_count += 1"
      ],
      "execution_count": null,
      "outputs": []
    },
    {
      "cell_type": "code",
      "metadata": {
        "id": "nuiD_gVsGPV4",
        "colab_type": "code",
        "colab": {
          "base_uri": "https://localhost:8080/",
          "height": 445
        },
        "outputId": "06163677-b0c9-46f6-d18b-ced87f568bdb"
      },
      "source": [
        "a_df.head()"
      ],
      "execution_count": null,
      "outputs": [
        {
          "output_type": "execute_result",
          "data": {
            "text/html": [
              "<div>\n",
              "<style scoped>\n",
              "    .dataframe tbody tr th:only-of-type {\n",
              "        vertical-align: middle;\n",
              "    }\n",
              "\n",
              "    .dataframe tbody tr th {\n",
              "        vertical-align: top;\n",
              "    }\n",
              "\n",
              "    .dataframe thead th {\n",
              "        text-align: right;\n",
              "    }\n",
              "</style>\n",
              "<table border=\"1\" class=\"dataframe\">\n",
              "  <thead>\n",
              "    <tr style=\"text-align: right;\">\n",
              "      <th></th>\n",
              "      <th>id</th>\n",
              "      <th>books_count</th>\n",
              "      <th>ratings_count</th>\n",
              "      <th>text_reviews_count</th>\n",
              "      <th>original_publication_year</th>\n",
              "      <th>original_publication_month</th>\n",
              "      <th>original_publication_day</th>\n",
              "      <th>average_rating</th>\n",
              "      <th>title</th>\n",
              "      <th>author_id</th>\n",
              "      <th>author_name</th>\n",
              "      <th>image_url</th>\n",
              "    </tr>\n",
              "  </thead>\n",
              "  <tbody>\n",
              "    <tr>\n",
              "      <th>0</th>\n",
              "      <td>2938937</td>\n",
              "      <td>200</td>\n",
              "      <td>227075</td>\n",
              "      <td>9210</td>\n",
              "      <td>1923</td>\n",
              "      <td></td>\n",
              "      <td></td>\n",
              "      <td>4.23</td>\n",
              "      <td>The Prophet</td>\n",
              "      <td>6466154</td>\n",
              "      <td>Kahlil Gibran</td>\n",
              "      <td>https://i.gr-assets.com/images/S/compressed.ph...</td>\n",
              "    </tr>\n",
              "    <tr>\n",
              "      <th>1</th>\n",
              "      <td>6518</td>\n",
              "      <td>41</td>\n",
              "      <td>1949</td>\n",
              "      <td>75</td>\n",
              "      <td>1947</td>\n",
              "      <td></td>\n",
              "      <td></td>\n",
              "      <td>4.42</td>\n",
              "      <td>The Treasured Writings of Kahlil Gibran</td>\n",
              "      <td>6466154</td>\n",
              "      <td>Kahlil Gibran</td>\n",
              "      <td>https://i.gr-assets.com/images/S/compressed.ph...</td>\n",
              "    </tr>\n",
              "    <tr>\n",
              "      <th>2</th>\n",
              "      <td>1978274</td>\n",
              "      <td>51</td>\n",
              "      <td>3144</td>\n",
              "      <td>432</td>\n",
              "      <td>1972</td>\n",
              "      <td>2</td>\n",
              "      <td>12</td>\n",
              "      <td>3.69</td>\n",
              "      <td>نامه‌های عاشقانه‌ی یک پیامبر</td>\n",
              "      <td>6466154</td>\n",
              "      <td>Kahlil Gibran</td>\n",
              "      <td>https://s.gr-assets.com/assets/nophoto/book/11...</td>\n",
              "    </tr>\n",
              "    <tr>\n",
              "      <th>3</th>\n",
              "      <td>45780596</td>\n",
              "      <td>25</td>\n",
              "      <td>1682</td>\n",
              "      <td>95</td>\n",
              "      <td>1964</td>\n",
              "      <td></td>\n",
              "      <td></td>\n",
              "      <td>4.45</td>\n",
              "      <td>المجموعة الكاملة لمؤلفات جبران خليل جبران</td>\n",
              "      <td>6466154</td>\n",
              "      <td>Kahlil Gibran</td>\n",
              "      <td>https://i.gr-assets.com/images/S/compressed.ph...</td>\n",
              "    </tr>\n",
              "    <tr>\n",
              "      <th>4</th>\n",
              "      <td>1676536</td>\n",
              "      <td>213</td>\n",
              "      <td>16503</td>\n",
              "      <td>1994</td>\n",
              "      <td>1912</td>\n",
              "      <td></td>\n",
              "      <td></td>\n",
              "      <td>3.93</td>\n",
              "      <td>The Broken Wings</td>\n",
              "      <td>6466154</td>\n",
              "      <td>Kahlil Gibran</td>\n",
              "      <td>https://s.gr-assets.com/assets/nophoto/book/11...</td>\n",
              "    </tr>\n",
              "  </tbody>\n",
              "</table>\n",
              "</div>"
            ],
            "text/plain": [
              "         id  ...                                          image_url\n",
              "0   2938937  ...  https://i.gr-assets.com/images/S/compressed.ph...\n",
              "1      6518  ...  https://i.gr-assets.com/images/S/compressed.ph...\n",
              "2   1978274  ...  https://s.gr-assets.com/assets/nophoto/book/11...\n",
              "3  45780596  ...  https://i.gr-assets.com/images/S/compressed.ph...\n",
              "4   1676536  ...  https://s.gr-assets.com/assets/nophoto/book/11...\n",
              "\n",
              "[5 rows x 12 columns]"
            ]
          },
          "metadata": {
            "tags": []
          },
          "execution_count": 11
        }
      ]
    },
    {
      "cell_type": "markdown",
      "metadata": {
        "id": "wmreThHXDnOx",
        "colab_type": "text"
      },
      "source": [
        "Meaning of some of the columns:\n",
        "- 'books_count' means number of editions available on goodreads website, like kindle eidtion, hardcover, paperback, audiobook and so on.\n",
        "- 'ratings_count' means the number of ratings\n",
        "- 'text_reviews_count' means the number of reviews"
      ]
    },
    {
      "cell_type": "code",
      "metadata": {
        "id": "PfuF1YU4GhiC",
        "colab_type": "code",
        "colab": {
          "base_uri": "https://localhost:8080/",
          "height": 221
        },
        "outputId": "033274d7-0c0d-46e2-96d6-0962d33b018a"
      },
      "source": [
        "a_df['author_name'].value_counts()"
      ],
      "execution_count": null,
      "outputs": [
        {
          "output_type": "execute_result",
          "data": {
            "text/plain": [
              "Kahlil Gibran              163\n",
              "Franz Kafka                123\n",
              "Ernest Hemingway            95\n",
              "J.D. Salinger               66\n",
              "J.K. Rowling                60\n",
              "                          ... \n",
              "John Kessel                  1\n",
              "David Sandison               1\n",
              "Timothy Taaffe               1\n",
              "McKenna Schmidt Shannon      1\n",
              "Freedom Puzzles              1\n",
              "Name: author_name, Length: 396, dtype: int64"
            ]
          },
          "metadata": {
            "tags": []
          },
          "execution_count": 3
        }
      ]
    },
    {
      "cell_type": "markdown",
      "metadata": {
        "id": "7SYck7Uucpmb",
        "colab_type": "text"
      },
      "source": [
        "# 3. Data cleaning"
      ]
    },
    {
      "cell_type": "markdown",
      "metadata": {
        "id": "A02imar6KL0O",
        "colab_type": "text"
      },
      "source": [
        "## 3.1 Collect authors"
      ]
    },
    {
      "cell_type": "code",
      "metadata": {
        "id": "QOwHoeU5KQMg",
        "colab_type": "code",
        "colab": {}
      },
      "source": [
        "a_df=a_df.drop_duplicates()\n",
        "df=a_df[(a_df['author_name']=='Kahlil Gibran') | (a_df['author_name']=='J.D. Salinger')\\\n",
        "     | (a_df['author_name']=='J.K. Rowling') | (a_df['author_name']=='Franz Kafka') \\\n",
        "     | (a_df['author_name']=='Ernest Hemingway')]"
      ],
      "execution_count": null,
      "outputs": []
    },
    {
      "cell_type": "markdown",
      "metadata": {
        "id": "G9vLgSLKdFy7",
        "colab_type": "text"
      },
      "source": [
        "## 3.2 Collect english books"
      ]
    },
    {
      "cell_type": "code",
      "metadata": {
        "id": "6c5micwYc7rr",
        "colab_type": "code",
        "colab": {}
      },
      "source": [
        "def save_eng(string):\n",
        "    if re.findall(r'[a-zA-Z0-9].*',string) != []:\n",
        "        if string == re.findall(r'[a-zA-Z0-9].*',string)[0]:\n",
        "            return True"
      ],
      "execution_count": null,
      "outputs": []
    },
    {
      "cell_type": "code",
      "metadata": {
        "id": "dfYFPsB_dMSG",
        "colab_type": "code",
        "colab": {
          "base_uri": "https://localhost:8080/",
          "height": 479
        },
        "outputId": "834f95ac-aa14-4461-b9fe-46fbfbbd3a48"
      },
      "source": [
        "df_eng=df[df['title'].apply(save_eng)==True].reset_index()\n",
        "df_eng.head()"
      ],
      "execution_count": null,
      "outputs": [
        {
          "output_type": "execute_result",
          "data": {
            "text/html": [
              "<div>\n",
              "<style scoped>\n",
              "    .dataframe tbody tr th:only-of-type {\n",
              "        vertical-align: middle;\n",
              "    }\n",
              "\n",
              "    .dataframe tbody tr th {\n",
              "        vertical-align: top;\n",
              "    }\n",
              "\n",
              "    .dataframe thead th {\n",
              "        text-align: right;\n",
              "    }\n",
              "</style>\n",
              "<table border=\"1\" class=\"dataframe\">\n",
              "  <thead>\n",
              "    <tr style=\"text-align: right;\">\n",
              "      <th></th>\n",
              "      <th>index</th>\n",
              "      <th>id</th>\n",
              "      <th>books_count</th>\n",
              "      <th>ratings_count</th>\n",
              "      <th>text_reviews_count</th>\n",
              "      <th>original_publication_year</th>\n",
              "      <th>original_publication_month</th>\n",
              "      <th>original_publication_day</th>\n",
              "      <th>average_rating</th>\n",
              "      <th>title</th>\n",
              "      <th>author_id</th>\n",
              "      <th>author_name</th>\n",
              "      <th>image_url</th>\n",
              "    </tr>\n",
              "  </thead>\n",
              "  <tbody>\n",
              "    <tr>\n",
              "      <th>0</th>\n",
              "      <td>0</td>\n",
              "      <td>2938937</td>\n",
              "      <td>200</td>\n",
              "      <td>227096</td>\n",
              "      <td>9211</td>\n",
              "      <td>1923</td>\n",
              "      <td></td>\n",
              "      <td></td>\n",
              "      <td>4.23</td>\n",
              "      <td>The Prophet</td>\n",
              "      <td>6466154</td>\n",
              "      <td>Kahlil Gibran</td>\n",
              "      <td>https://i.gr-assets.com/images/S/compressed.ph...</td>\n",
              "    </tr>\n",
              "    <tr>\n",
              "      <th>1</th>\n",
              "      <td>1</td>\n",
              "      <td>6518</td>\n",
              "      <td>41</td>\n",
              "      <td>1949</td>\n",
              "      <td>75</td>\n",
              "      <td>1947</td>\n",
              "      <td></td>\n",
              "      <td></td>\n",
              "      <td>4.42</td>\n",
              "      <td>The Treasured Writings of Kahlil Gibran</td>\n",
              "      <td>6466154</td>\n",
              "      <td>Kahlil Gibran</td>\n",
              "      <td>https://i.gr-assets.com/images/S/compressed.ph...</td>\n",
              "    </tr>\n",
              "    <tr>\n",
              "      <th>2</th>\n",
              "      <td>4</td>\n",
              "      <td>1676536</td>\n",
              "      <td>213</td>\n",
              "      <td>16504</td>\n",
              "      <td>1994</td>\n",
              "      <td>1912</td>\n",
              "      <td></td>\n",
              "      <td></td>\n",
              "      <td>3.93</td>\n",
              "      <td>The Broken Wings</td>\n",
              "      <td>6466154</td>\n",
              "      <td>Kahlil Gibran</td>\n",
              "      <td>https://s.gr-assets.com/assets/nophoto/book/11...</td>\n",
              "    </tr>\n",
              "    <tr>\n",
              "      <th>3</th>\n",
              "      <td>5</td>\n",
              "      <td>78543265</td>\n",
              "      <td>4</td>\n",
              "      <td>424</td>\n",
              "      <td>31</td>\n",
              "      <td></td>\n",
              "      <td></td>\n",
              "      <td></td>\n",
              "      <td>3.72</td>\n",
              "      <td>Love Letters: The Love Letters of Kahlil Gibra...</td>\n",
              "      <td>6466154</td>\n",
              "      <td>Kahlil Gibran</td>\n",
              "      <td>https://i.gr-assets.com/images/S/compressed.ph...</td>\n",
              "    </tr>\n",
              "    <tr>\n",
              "      <th>4</th>\n",
              "      <td>6</td>\n",
              "      <td>111402</td>\n",
              "      <td>3</td>\n",
              "      <td>145</td>\n",
              "      <td>9</td>\n",
              "      <td>2005</td>\n",
              "      <td></td>\n",
              "      <td></td>\n",
              "      <td>4.45</td>\n",
              "      <td>The Essential Kahlil Gibran</td>\n",
              "      <td>6466154</td>\n",
              "      <td>Kahlil Gibran</td>\n",
              "      <td>https://s.gr-assets.com/assets/nophoto/book/11...</td>\n",
              "    </tr>\n",
              "  </tbody>\n",
              "</table>\n",
              "</div>"
            ],
            "text/plain": [
              "   index  ...                                          image_url\n",
              "0      0  ...  https://i.gr-assets.com/images/S/compressed.ph...\n",
              "1      1  ...  https://i.gr-assets.com/images/S/compressed.ph...\n",
              "2      4  ...  https://s.gr-assets.com/assets/nophoto/book/11...\n",
              "3      5  ...  https://i.gr-assets.com/images/S/compressed.ph...\n",
              "4      6  ...  https://s.gr-assets.com/assets/nophoto/book/11...\n",
              "\n",
              "[5 rows x 13 columns]"
            ]
          },
          "metadata": {
            "tags": []
          },
          "execution_count": 6
        }
      ]
    },
    {
      "cell_type": "markdown",
      "metadata": {
        "id": "JWejP0hZdVN9",
        "colab_type": "text"
      },
      "source": [
        "## 3.3 Drop unnecessary columns\n",
        "The publication months and days are not available for each book, we can also drop those."
      ]
    },
    {
      "cell_type": "code",
      "metadata": {
        "id": "3LV1M0kBdP_B",
        "colab_type": "code",
        "colab": {
          "base_uri": "https://localhost:8080/",
          "height": 479
        },
        "outputId": "d29e8aae-3b90-4d84-e2b9-0938baa9488a"
      },
      "source": [
        "df_eng_year=df_eng.drop(['original_publication_month','original_publication_day','index'],axis=1)\n",
        "df_eng_year.head()"
      ],
      "execution_count": null,
      "outputs": [
        {
          "output_type": "execute_result",
          "data": {
            "text/html": [
              "<div>\n",
              "<style scoped>\n",
              "    .dataframe tbody tr th:only-of-type {\n",
              "        vertical-align: middle;\n",
              "    }\n",
              "\n",
              "    .dataframe tbody tr th {\n",
              "        vertical-align: top;\n",
              "    }\n",
              "\n",
              "    .dataframe thead th {\n",
              "        text-align: right;\n",
              "    }\n",
              "</style>\n",
              "<table border=\"1\" class=\"dataframe\">\n",
              "  <thead>\n",
              "    <tr style=\"text-align: right;\">\n",
              "      <th></th>\n",
              "      <th>id</th>\n",
              "      <th>books_count</th>\n",
              "      <th>ratings_count</th>\n",
              "      <th>text_reviews_count</th>\n",
              "      <th>original_publication_year</th>\n",
              "      <th>average_rating</th>\n",
              "      <th>title</th>\n",
              "      <th>author_id</th>\n",
              "      <th>author_name</th>\n",
              "      <th>image_url</th>\n",
              "    </tr>\n",
              "  </thead>\n",
              "  <tbody>\n",
              "    <tr>\n",
              "      <th>0</th>\n",
              "      <td>2938937</td>\n",
              "      <td>200</td>\n",
              "      <td>227096</td>\n",
              "      <td>9211</td>\n",
              "      <td>1923</td>\n",
              "      <td>4.23</td>\n",
              "      <td>The Prophet</td>\n",
              "      <td>6466154</td>\n",
              "      <td>Kahlil Gibran</td>\n",
              "      <td>https://i.gr-assets.com/images/S/compressed.ph...</td>\n",
              "    </tr>\n",
              "    <tr>\n",
              "      <th>1</th>\n",
              "      <td>6518</td>\n",
              "      <td>41</td>\n",
              "      <td>1949</td>\n",
              "      <td>75</td>\n",
              "      <td>1947</td>\n",
              "      <td>4.42</td>\n",
              "      <td>The Treasured Writings of Kahlil Gibran</td>\n",
              "      <td>6466154</td>\n",
              "      <td>Kahlil Gibran</td>\n",
              "      <td>https://i.gr-assets.com/images/S/compressed.ph...</td>\n",
              "    </tr>\n",
              "    <tr>\n",
              "      <th>2</th>\n",
              "      <td>1676536</td>\n",
              "      <td>213</td>\n",
              "      <td>16504</td>\n",
              "      <td>1994</td>\n",
              "      <td>1912</td>\n",
              "      <td>3.93</td>\n",
              "      <td>The Broken Wings</td>\n",
              "      <td>6466154</td>\n",
              "      <td>Kahlil Gibran</td>\n",
              "      <td>https://s.gr-assets.com/assets/nophoto/book/11...</td>\n",
              "    </tr>\n",
              "    <tr>\n",
              "      <th>3</th>\n",
              "      <td>78543265</td>\n",
              "      <td>4</td>\n",
              "      <td>424</td>\n",
              "      <td>31</td>\n",
              "      <td></td>\n",
              "      <td>3.72</td>\n",
              "      <td>Love Letters: The Love Letters of Kahlil Gibra...</td>\n",
              "      <td>6466154</td>\n",
              "      <td>Kahlil Gibran</td>\n",
              "      <td>https://i.gr-assets.com/images/S/compressed.ph...</td>\n",
              "    </tr>\n",
              "    <tr>\n",
              "      <th>4</th>\n",
              "      <td>111402</td>\n",
              "      <td>3</td>\n",
              "      <td>145</td>\n",
              "      <td>9</td>\n",
              "      <td>2005</td>\n",
              "      <td>4.45</td>\n",
              "      <td>The Essential Kahlil Gibran</td>\n",
              "      <td>6466154</td>\n",
              "      <td>Kahlil Gibran</td>\n",
              "      <td>https://s.gr-assets.com/assets/nophoto/book/11...</td>\n",
              "    </tr>\n",
              "  </tbody>\n",
              "</table>\n",
              "</div>"
            ],
            "text/plain": [
              "         id  ...                                          image_url\n",
              "0   2938937  ...  https://i.gr-assets.com/images/S/compressed.ph...\n",
              "1      6518  ...  https://i.gr-assets.com/images/S/compressed.ph...\n",
              "2   1676536  ...  https://s.gr-assets.com/assets/nophoto/book/11...\n",
              "3  78543265  ...  https://i.gr-assets.com/images/S/compressed.ph...\n",
              "4    111402  ...  https://s.gr-assets.com/assets/nophoto/book/11...\n",
              "\n",
              "[5 rows x 10 columns]"
            ]
          },
          "metadata": {
            "tags": []
          },
          "execution_count": 7
        }
      ]
    },
    {
      "cell_type": "markdown",
      "metadata": {
        "id": "9VufbDtTdygS",
        "colab_type": "text"
      },
      "source": [
        "## 3.4 Rename column names and type of the columns"
      ]
    },
    {
      "cell_type": "code",
      "metadata": {
        "id": "LXwR0eP5dw89",
        "colab_type": "code",
        "colab": {
          "base_uri": "https://localhost:8080/",
          "height": 479
        },
        "outputId": "35bca94c-c4a4-4aca-f396-9fbc03233842"
      },
      "source": [
        "df_final=df_eng_year.rename({'books_count':'editions','original_publication_year':'year'\\\n",
        "                    ,'average_rating':'avg_rating'},axis=1)\n",
        "df_final['id']=df_final['id'].astype(int)\n",
        "df_final['editions']=df_final['editions'].astype(int)\n",
        "df_final['ratings_count']=df_final['ratings_count'].astype(int)\n",
        "df_final['text_reviews_count']=df_final['text_reviews_count'].astype(int)\n",
        "df_final['avg_rating']=df_final['avg_rating'].astype(float)\n",
        "df_final['author_id']=df_final['author_id'].astype(int)\n",
        "df_final.head()"
      ],
      "execution_count": null,
      "outputs": [
        {
          "output_type": "execute_result",
          "data": {
            "text/html": [
              "<div>\n",
              "<style scoped>\n",
              "    .dataframe tbody tr th:only-of-type {\n",
              "        vertical-align: middle;\n",
              "    }\n",
              "\n",
              "    .dataframe tbody tr th {\n",
              "        vertical-align: top;\n",
              "    }\n",
              "\n",
              "    .dataframe thead th {\n",
              "        text-align: right;\n",
              "    }\n",
              "</style>\n",
              "<table border=\"1\" class=\"dataframe\">\n",
              "  <thead>\n",
              "    <tr style=\"text-align: right;\">\n",
              "      <th></th>\n",
              "      <th>id</th>\n",
              "      <th>editions</th>\n",
              "      <th>ratings_count</th>\n",
              "      <th>text_reviews_count</th>\n",
              "      <th>year</th>\n",
              "      <th>avg_rating</th>\n",
              "      <th>title</th>\n",
              "      <th>author_id</th>\n",
              "      <th>author_name</th>\n",
              "      <th>image_url</th>\n",
              "    </tr>\n",
              "  </thead>\n",
              "  <tbody>\n",
              "    <tr>\n",
              "      <th>0</th>\n",
              "      <td>2938937</td>\n",
              "      <td>200</td>\n",
              "      <td>227096</td>\n",
              "      <td>9211</td>\n",
              "      <td>1923</td>\n",
              "      <td>4.23</td>\n",
              "      <td>The Prophet</td>\n",
              "      <td>6466154</td>\n",
              "      <td>Kahlil Gibran</td>\n",
              "      <td>https://i.gr-assets.com/images/S/compressed.ph...</td>\n",
              "    </tr>\n",
              "    <tr>\n",
              "      <th>1</th>\n",
              "      <td>6518</td>\n",
              "      <td>41</td>\n",
              "      <td>1949</td>\n",
              "      <td>75</td>\n",
              "      <td>1947</td>\n",
              "      <td>4.42</td>\n",
              "      <td>The Treasured Writings of Kahlil Gibran</td>\n",
              "      <td>6466154</td>\n",
              "      <td>Kahlil Gibran</td>\n",
              "      <td>https://i.gr-assets.com/images/S/compressed.ph...</td>\n",
              "    </tr>\n",
              "    <tr>\n",
              "      <th>2</th>\n",
              "      <td>1676536</td>\n",
              "      <td>213</td>\n",
              "      <td>16504</td>\n",
              "      <td>1994</td>\n",
              "      <td>1912</td>\n",
              "      <td>3.93</td>\n",
              "      <td>The Broken Wings</td>\n",
              "      <td>6466154</td>\n",
              "      <td>Kahlil Gibran</td>\n",
              "      <td>https://s.gr-assets.com/assets/nophoto/book/11...</td>\n",
              "    </tr>\n",
              "    <tr>\n",
              "      <th>3</th>\n",
              "      <td>78543265</td>\n",
              "      <td>4</td>\n",
              "      <td>424</td>\n",
              "      <td>31</td>\n",
              "      <td></td>\n",
              "      <td>3.72</td>\n",
              "      <td>Love Letters: The Love Letters of Kahlil Gibra...</td>\n",
              "      <td>6466154</td>\n",
              "      <td>Kahlil Gibran</td>\n",
              "      <td>https://i.gr-assets.com/images/S/compressed.ph...</td>\n",
              "    </tr>\n",
              "    <tr>\n",
              "      <th>4</th>\n",
              "      <td>111402</td>\n",
              "      <td>3</td>\n",
              "      <td>145</td>\n",
              "      <td>9</td>\n",
              "      <td>2005</td>\n",
              "      <td>4.45</td>\n",
              "      <td>The Essential Kahlil Gibran</td>\n",
              "      <td>6466154</td>\n",
              "      <td>Kahlil Gibran</td>\n",
              "      <td>https://s.gr-assets.com/assets/nophoto/book/11...</td>\n",
              "    </tr>\n",
              "  </tbody>\n",
              "</table>\n",
              "</div>"
            ],
            "text/plain": [
              "         id  ...                                          image_url\n",
              "0   2938937  ...  https://i.gr-assets.com/images/S/compressed.ph...\n",
              "1      6518  ...  https://i.gr-assets.com/images/S/compressed.ph...\n",
              "2   1676536  ...  https://s.gr-assets.com/assets/nophoto/book/11...\n",
              "3  78543265  ...  https://i.gr-assets.com/images/S/compressed.ph...\n",
              "4    111402  ...  https://s.gr-assets.com/assets/nophoto/book/11...\n",
              "\n",
              "[5 rows x 10 columns]"
            ]
          },
          "metadata": {
            "tags": []
          },
          "execution_count": 8
        }
      ]
    },
    {
      "cell_type": "markdown",
      "metadata": {
        "id": "w7PrM1e2fCAX",
        "colab_type": "text"
      },
      "source": [
        "## 3.5 The year column"
      ]
    },
    {
      "cell_type": "markdown",
      "metadata": {
        "id": "7Vru1R6tfGBb",
        "colab_type": "text"
      },
      "source": [
        "The published years of some books are not available, these books are as follows:"
      ]
    },
    {
      "cell_type": "code",
      "metadata": {
        "id": "xEscbHpOeAOB",
        "colab_type": "code",
        "colab": {
          "base_uri": "https://localhost:8080/",
          "height": 932
        },
        "outputId": "bc5d6a81-97e8-448c-f76e-94a58620ad1d"
      },
      "source": [
        "df_final[df_final['year']=='']"
      ],
      "execution_count": null,
      "outputs": [
        {
          "output_type": "execute_result",
          "data": {
            "text/html": [
              "<div>\n",
              "<style scoped>\n",
              "    .dataframe tbody tr th:only-of-type {\n",
              "        vertical-align: middle;\n",
              "    }\n",
              "\n",
              "    .dataframe tbody tr th {\n",
              "        vertical-align: top;\n",
              "    }\n",
              "\n",
              "    .dataframe thead th {\n",
              "        text-align: right;\n",
              "    }\n",
              "</style>\n",
              "<table border=\"1\" class=\"dataframe\">\n",
              "  <thead>\n",
              "    <tr style=\"text-align: right;\">\n",
              "      <th></th>\n",
              "      <th>id</th>\n",
              "      <th>editions</th>\n",
              "      <th>ratings_count</th>\n",
              "      <th>text_reviews_count</th>\n",
              "      <th>year</th>\n",
              "      <th>avg_rating</th>\n",
              "      <th>title</th>\n",
              "      <th>author_id</th>\n",
              "      <th>author_name</th>\n",
              "      <th>image_url</th>\n",
              "    </tr>\n",
              "  </thead>\n",
              "  <tbody>\n",
              "    <tr>\n",
              "      <th>3</th>\n",
              "      <td>78543265</td>\n",
              "      <td>4</td>\n",
              "      <td>424</td>\n",
              "      <td>31</td>\n",
              "      <td></td>\n",
              "      <td>3.72</td>\n",
              "      <td>Love Letters: The Love Letters of Kahlil Gibra...</td>\n",
              "      <td>6466154</td>\n",
              "      <td>Kahlil Gibran</td>\n",
              "      <td>https://i.gr-assets.com/images/S/compressed.ph...</td>\n",
              "    </tr>\n",
              "    <tr>\n",
              "      <th>18</th>\n",
              "      <td>58544333</td>\n",
              "      <td>5</td>\n",
              "      <td>92</td>\n",
              "      <td>8</td>\n",
              "      <td></td>\n",
              "      <td>3.91</td>\n",
              "      <td>Kahlil Gibran's Little Book of Life</td>\n",
              "      <td>6466154</td>\n",
              "      <td>Kahlil Gibran</td>\n",
              "      <td>https://i.gr-assets.com/images/S/compressed.ph...</td>\n",
              "    </tr>\n",
              "    <tr>\n",
              "      <th>20</th>\n",
              "      <td>53946709</td>\n",
              "      <td>3</td>\n",
              "      <td>23</td>\n",
              "      <td>5</td>\n",
              "      <td></td>\n",
              "      <td>4.52</td>\n",
              "      <td>A Treasury of Kahlil Gibran</td>\n",
              "      <td>6466154</td>\n",
              "      <td>Kahlil Gibran</td>\n",
              "      <td>https://i.gr-assets.com/images/S/compressed.ph...</td>\n",
              "    </tr>\n",
              "    <tr>\n",
              "      <th>22</th>\n",
              "      <td>43860963</td>\n",
              "      <td>3</td>\n",
              "      <td>17</td>\n",
              "      <td>2</td>\n",
              "      <td></td>\n",
              "      <td>4.06</td>\n",
              "      <td>The Greatest Works of Kahlil Gibran</td>\n",
              "      <td>6466154</td>\n",
              "      <td>Kahlil Gibran</td>\n",
              "      <td>https://i.gr-assets.com/images/S/compressed.ph...</td>\n",
              "    </tr>\n",
              "    <tr>\n",
              "      <th>23</th>\n",
              "      <td>59237374</td>\n",
              "      <td>3</td>\n",
              "      <td>48</td>\n",
              "      <td>4</td>\n",
              "      <td></td>\n",
              "      <td>4.58</td>\n",
              "      <td>Collected Works of Kahlil Gibran</td>\n",
              "      <td>6466154</td>\n",
              "      <td>Kahlil Gibran</td>\n",
              "      <td>https://s.gr-assets.com/assets/nophoto/book/11...</td>\n",
              "    </tr>\n",
              "    <tr>\n",
              "      <th>...</th>\n",
              "      <td>...</td>\n",
              "      <td>...</td>\n",
              "      <td>...</td>\n",
              "      <td>...</td>\n",
              "      <td>...</td>\n",
              "      <td>...</td>\n",
              "      <td>...</td>\n",
              "      <td>...</td>\n",
              "      <td>...</td>\n",
              "      <td>...</td>\n",
              "    </tr>\n",
              "    <tr>\n",
              "      <th>385</th>\n",
              "      <td>24075034</td>\n",
              "      <td>2</td>\n",
              "      <td>220</td>\n",
              "      <td>28</td>\n",
              "      <td></td>\n",
              "      <td>3.22</td>\n",
              "      <td>My Old Man</td>\n",
              "      <td>1455</td>\n",
              "      <td>Ernest Hemingway</td>\n",
              "      <td>https://i.gr-assets.com/images/S/compressed.ph...</td>\n",
              "    </tr>\n",
              "    <tr>\n",
              "      <th>390</th>\n",
              "      <td>16610420</td>\n",
              "      <td>1</td>\n",
              "      <td>4</td>\n",
              "      <td>1</td>\n",
              "      <td></td>\n",
              "      <td>3.25</td>\n",
              "      <td>Ernest Hemingway Collection: The Essential Hem...</td>\n",
              "      <td>1455</td>\n",
              "      <td>Ernest Hemingway</td>\n",
              "      <td>https://s.gr-assets.com/assets/nophoto/book/11...</td>\n",
              "    </tr>\n",
              "    <tr>\n",
              "      <th>399</th>\n",
              "      <td>24579046</td>\n",
              "      <td>1</td>\n",
              "      <td>2</td>\n",
              "      <td>0</td>\n",
              "      <td></td>\n",
              "      <td>4.00</td>\n",
              "      <td>Ernest Hemingway selección</td>\n",
              "      <td>1455</td>\n",
              "      <td>Ernest Hemingway</td>\n",
              "      <td>https://s.gr-assets.com/assets/nophoto/book/11...</td>\n",
              "    </tr>\n",
              "    <tr>\n",
              "      <th>400</th>\n",
              "      <td>71158438</td>\n",
              "      <td>1</td>\n",
              "      <td>60</td>\n",
              "      <td>1</td>\n",
              "      <td></td>\n",
              "      <td>4.25</td>\n",
              "      <td>For Whom the Bell Tolls Part 1</td>\n",
              "      <td>1455</td>\n",
              "      <td>Ernest Hemingway</td>\n",
              "      <td>https://s.gr-assets.com/assets/nophoto/book/11...</td>\n",
              "    </tr>\n",
              "    <tr>\n",
              "      <th>401</th>\n",
              "      <td>46178335</td>\n",
              "      <td>1</td>\n",
              "      <td>137</td>\n",
              "      <td>4</td>\n",
              "      <td></td>\n",
              "      <td>3.76</td>\n",
              "      <td>El viejo y el mar y otros cuentos</td>\n",
              "      <td>1455</td>\n",
              "      <td>Ernest Hemingway</td>\n",
              "      <td>https://s.gr-assets.com/assets/nophoto/book/11...</td>\n",
              "    </tr>\n",
              "  </tbody>\n",
              "</table>\n",
              "<p>104 rows × 10 columns</p>\n",
              "</div>"
            ],
            "text/plain": [
              "           id  ...                                          image_url\n",
              "3    78543265  ...  https://i.gr-assets.com/images/S/compressed.ph...\n",
              "18   58544333  ...  https://i.gr-assets.com/images/S/compressed.ph...\n",
              "20   53946709  ...  https://i.gr-assets.com/images/S/compressed.ph...\n",
              "22   43860963  ...  https://i.gr-assets.com/images/S/compressed.ph...\n",
              "23   59237374  ...  https://s.gr-assets.com/assets/nophoto/book/11...\n",
              "..        ...  ...                                                ...\n",
              "385  24075034  ...  https://i.gr-assets.com/images/S/compressed.ph...\n",
              "390  16610420  ...  https://s.gr-assets.com/assets/nophoto/book/11...\n",
              "399  24579046  ...  https://s.gr-assets.com/assets/nophoto/book/11...\n",
              "400  71158438  ...  https://s.gr-assets.com/assets/nophoto/book/11...\n",
              "401  46178335  ...  https://s.gr-assets.com/assets/nophoto/book/11...\n",
              "\n",
              "[104 rows x 10 columns]"
            ]
          },
          "metadata": {
            "tags": []
          },
          "execution_count": 9
        }
      ]
    },
    {
      "cell_type": "markdown",
      "metadata": {
        "id": "moNbLaBVfUUs",
        "colab_type": "text"
      },
      "source": [
        "We can see that these books are collection of the works of the authors, but collected by other people. The collected date could be quite recent. We first denote it as not applicable."
      ]
    },
    {
      "cell_type": "code",
      "metadata": {
        "id": "fHs5zP04fPk_",
        "colab_type": "code",
        "colab": {
          "base_uri": "https://localhost:8080/",
          "height": 479
        },
        "outputId": "d7955320-2f4e-49ee-92f7-ac7075ff9d37"
      },
      "source": [
        "df_final['year']=df_final['year'].replace('','Not specified')\n",
        "df_final.head()"
      ],
      "execution_count": null,
      "outputs": [
        {
          "output_type": "execute_result",
          "data": {
            "text/html": [
              "<div>\n",
              "<style scoped>\n",
              "    .dataframe tbody tr th:only-of-type {\n",
              "        vertical-align: middle;\n",
              "    }\n",
              "\n",
              "    .dataframe tbody tr th {\n",
              "        vertical-align: top;\n",
              "    }\n",
              "\n",
              "    .dataframe thead th {\n",
              "        text-align: right;\n",
              "    }\n",
              "</style>\n",
              "<table border=\"1\" class=\"dataframe\">\n",
              "  <thead>\n",
              "    <tr style=\"text-align: right;\">\n",
              "      <th></th>\n",
              "      <th>id</th>\n",
              "      <th>editions</th>\n",
              "      <th>ratings_count</th>\n",
              "      <th>text_reviews_count</th>\n",
              "      <th>year</th>\n",
              "      <th>avg_rating</th>\n",
              "      <th>title</th>\n",
              "      <th>author_id</th>\n",
              "      <th>author_name</th>\n",
              "      <th>image_url</th>\n",
              "    </tr>\n",
              "  </thead>\n",
              "  <tbody>\n",
              "    <tr>\n",
              "      <th>0</th>\n",
              "      <td>2938937</td>\n",
              "      <td>200</td>\n",
              "      <td>227096</td>\n",
              "      <td>9211</td>\n",
              "      <td>1923</td>\n",
              "      <td>4.23</td>\n",
              "      <td>The Prophet</td>\n",
              "      <td>6466154</td>\n",
              "      <td>Kahlil Gibran</td>\n",
              "      <td>https://i.gr-assets.com/images/S/compressed.ph...</td>\n",
              "    </tr>\n",
              "    <tr>\n",
              "      <th>1</th>\n",
              "      <td>6518</td>\n",
              "      <td>41</td>\n",
              "      <td>1949</td>\n",
              "      <td>75</td>\n",
              "      <td>1947</td>\n",
              "      <td>4.42</td>\n",
              "      <td>The Treasured Writings of Kahlil Gibran</td>\n",
              "      <td>6466154</td>\n",
              "      <td>Kahlil Gibran</td>\n",
              "      <td>https://i.gr-assets.com/images/S/compressed.ph...</td>\n",
              "    </tr>\n",
              "    <tr>\n",
              "      <th>2</th>\n",
              "      <td>1676536</td>\n",
              "      <td>213</td>\n",
              "      <td>16504</td>\n",
              "      <td>1994</td>\n",
              "      <td>1912</td>\n",
              "      <td>3.93</td>\n",
              "      <td>The Broken Wings</td>\n",
              "      <td>6466154</td>\n",
              "      <td>Kahlil Gibran</td>\n",
              "      <td>https://s.gr-assets.com/assets/nophoto/book/11...</td>\n",
              "    </tr>\n",
              "    <tr>\n",
              "      <th>3</th>\n",
              "      <td>78543265</td>\n",
              "      <td>4</td>\n",
              "      <td>424</td>\n",
              "      <td>31</td>\n",
              "      <td>Not specified</td>\n",
              "      <td>3.72</td>\n",
              "      <td>Love Letters: The Love Letters of Kahlil Gibra...</td>\n",
              "      <td>6466154</td>\n",
              "      <td>Kahlil Gibran</td>\n",
              "      <td>https://i.gr-assets.com/images/S/compressed.ph...</td>\n",
              "    </tr>\n",
              "    <tr>\n",
              "      <th>4</th>\n",
              "      <td>111402</td>\n",
              "      <td>3</td>\n",
              "      <td>145</td>\n",
              "      <td>9</td>\n",
              "      <td>2005</td>\n",
              "      <td>4.45</td>\n",
              "      <td>The Essential Kahlil Gibran</td>\n",
              "      <td>6466154</td>\n",
              "      <td>Kahlil Gibran</td>\n",
              "      <td>https://s.gr-assets.com/assets/nophoto/book/11...</td>\n",
              "    </tr>\n",
              "  </tbody>\n",
              "</table>\n",
              "</div>"
            ],
            "text/plain": [
              "         id  ...                                          image_url\n",
              "0   2938937  ...  https://i.gr-assets.com/images/S/compressed.ph...\n",
              "1      6518  ...  https://i.gr-assets.com/images/S/compressed.ph...\n",
              "2   1676536  ...  https://s.gr-assets.com/assets/nophoto/book/11...\n",
              "3  78543265  ...  https://i.gr-assets.com/images/S/compressed.ph...\n",
              "4    111402  ...  https://s.gr-assets.com/assets/nophoto/book/11...\n",
              "\n",
              "[5 rows x 10 columns]"
            ]
          },
          "metadata": {
            "tags": []
          },
          "execution_count": 10
        }
      ]
    },
    {
      "cell_type": "markdown",
      "metadata": {
        "id": "VEntqFVfvOji",
        "colab_type": "text"
      },
      "source": [
        "For the further cleaning, let us remove the above mentioned rows."
      ]
    },
    {
      "cell_type": "code",
      "metadata": {
        "id": "9Y0BPOH3f2-p",
        "colab_type": "code",
        "colab": {}
      },
      "source": [
        "df_clean=df_final.drop(labels=df_final[df_final['year']=='Not specified'].index).reset_index().drop('index',axis=1)\n",
        "df_clean['year']=df_clean['year'].astype(int)"
      ],
      "execution_count": null,
      "outputs": []
    },
    {
      "cell_type": "code",
      "metadata": {
        "id": "aEZSBNjaQWgs",
        "colab_type": "code",
        "colab": {}
      },
      "source": [
        "df_clean = df_clean[['id', 'title', 'author_name', 'author_id', 'editions', 'year', 'avg_rating', 'ratings_count', 'text_reviews_count', 'image_url']]"
      ],
      "execution_count": null,
      "outputs": []
    },
    {
      "cell_type": "markdown",
      "metadata": {
        "id": "KCFQ7aVhveIP",
        "colab_type": "text"
      },
      "source": [
        "## 3.6 Author ages"
      ]
    },
    {
      "cell_type": "markdown",
      "metadata": {
        "id": "HKsOz7TBv3VC",
        "colab_type": "text"
      },
      "source": [
        "We can use web scraping again to obtain the authors' birth date and the their age when they ceated their works."
      ]
    },
    {
      "cell_type": "code",
      "metadata": {
        "id": "oWcI_BFbg9b_",
        "colab_type": "code",
        "colab": {}
      },
      "source": [
        "author_date={}\n",
        "authors = ['Kahlil Gibran', 'J.D. Salinger', 'J.K. Rowling', 'Franz Kafka', 'Ernest Hemingway']\n",
        "urls=['https://www.goodreads.com/author/show/6466154.Kahlil_Gibran'\\\n",
        "      ,'https://www.goodreads.com/author/show/819789.J_D_Salinger?from_search=true&from_srp=true'\\\n",
        "     ,'https://www.goodreads.com/author/show/1077326.J_K_Rowling?from_search=true&from_srp=true'\\\n",
        "     ,'https://www.goodreads.com/author/show/5223.Franz_Kafka'\\\n",
        "     ,'https://www.goodreads.com/author/show/1455.Ernest_Hemingway']\n",
        "\n",
        "for i in range(0,len(urls)):\n",
        "    url=urls[i]\n",
        "    respons=requests.get(url)\n",
        "    respons_j=respons.content.decode(\"utf-8\")\n",
        "    parser = BeautifulSoup(respons_j, 'html.parser')\n",
        "    #born_date=dt.datetime.strptime(parser.find_all('div', class_=\"dataItem\")[0].text.replace('\\n','').strip(),\"%B %d, %Y\").year\n",
        "    #death_date=dt.datetime.strptime(parser.find_all('div', class_=\"dataItem\")[1].text.replace('\\n','').strip(),\"%B %d, %Y\").year\n",
        "    born_date=parser.find_all('div', class_=\"dataItem\")[0].text.replace('\\n','').strip()\n",
        "    #death_date=parser.find_all('div', class_=\"dataItem\")[1].text.replace('\\n','').strip()\n",
        "   \n",
        "    \n",
        "    data_titles=parser.find_all('div', class_=\"dataTitle\")\n",
        "    death_date_index=-1\n",
        "    for index, data_title in enumerate(data_titles):\n",
        "        if 'died' in data_title.text.lower():\n",
        "            death_date_index = index\n",
        "            break\n",
        "            \n",
        "    \n",
        "    genre_index=-1\n",
        "    for index, data_title in enumerate(data_titles):\n",
        "        if 'genre' in data_title.text.lower():\n",
        "            genre_index = index\n",
        "            break\n",
        "    genre=parser.find_all('div', class_=\"dataItem\")[genre_index].text.replace('\\n','').strip()\n",
        "    author_date['author']=authors[i]\n",
        "    author_date['born_date']=born_date\n",
        "    if death_date_index == -1:\n",
        "        author_date['death_date']='-'\n",
        "    else:\n",
        "        death_date=parser.find_all('div', class_=\"dataItem\")[death_date_index].text.replace('\\n','').strip()\n",
        "        author_date['death_date']=death_date\n",
        "    author_date['genre']=genre\n",
        "    if i==0:\n",
        "        author_df=pd.DataFrame([author_date])\n",
        "    else:\n",
        "        author_df=pd.concat([author_df,pd.DataFrame([author_date])],ignore_index=True)"
      ],
      "execution_count": null,
      "outputs": []
    },
    {
      "cell_type": "code",
      "metadata": {
        "id": "kj-jiMUxwpyJ",
        "colab_type": "code",
        "colab": {
          "base_uri": "https://localhost:8080/",
          "height": 204
        },
        "outputId": "8cef4089-2e38-4e8e-b7db-1adc6c103785"
      },
      "source": [
        "author_df"
      ],
      "execution_count": null,
      "outputs": [
        {
          "output_type": "execute_result",
          "data": {
            "text/html": [
              "<div>\n",
              "<style scoped>\n",
              "    .dataframe tbody tr th:only-of-type {\n",
              "        vertical-align: middle;\n",
              "    }\n",
              "\n",
              "    .dataframe tbody tr th {\n",
              "        vertical-align: top;\n",
              "    }\n",
              "\n",
              "    .dataframe thead th {\n",
              "        text-align: right;\n",
              "    }\n",
              "</style>\n",
              "<table border=\"1\" class=\"dataframe\">\n",
              "  <thead>\n",
              "    <tr style=\"text-align: right;\">\n",
              "      <th></th>\n",
              "      <th>author</th>\n",
              "      <th>born_date</th>\n",
              "      <th>death_date</th>\n",
              "      <th>genre</th>\n",
              "    </tr>\n",
              "  </thead>\n",
              "  <tbody>\n",
              "    <tr>\n",
              "      <th>0</th>\n",
              "      <td>Kahlil Gibran</td>\n",
              "      <td>January 06, 1883</td>\n",
              "      <td>April 10, 1931</td>\n",
              "      <td>Philosophy, Poetry, Spirituality</td>\n",
              "    </tr>\n",
              "    <tr>\n",
              "      <th>1</th>\n",
              "      <td>J.D. Salinger</td>\n",
              "      <td>January 01, 1919</td>\n",
              "      <td>January 27, 2010</td>\n",
              "      <td>Literature &amp; Fiction, Short Stories</td>\n",
              "    </tr>\n",
              "    <tr>\n",
              "      <th>2</th>\n",
              "      <td>J.K. Rowling</td>\n",
              "      <td>July 31, 1965</td>\n",
              "      <td>-</td>\n",
              "      <td>Fiction, Young Adult, Fantasy</td>\n",
              "    </tr>\n",
              "    <tr>\n",
              "      <th>3</th>\n",
              "      <td>Franz Kafka</td>\n",
              "      <td>July 03, 1883</td>\n",
              "      <td>June 03, 1924</td>\n",
              "      <td>Fiction, Philosophy, Short Stories</td>\n",
              "    </tr>\n",
              "    <tr>\n",
              "      <th>4</th>\n",
              "      <td>Ernest Hemingway</td>\n",
              "      <td>July 21, 1899</td>\n",
              "      <td>July 02, 1961</td>\n",
              "      <td>Fiction</td>\n",
              "    </tr>\n",
              "  </tbody>\n",
              "</table>\n",
              "</div>"
            ],
            "text/plain": [
              "             author  ...                                genre\n",
              "0     Kahlil Gibran  ...     Philosophy, Poetry, Spirituality\n",
              "1     J.D. Salinger  ...  Literature & Fiction, Short Stories\n",
              "2      J.K. Rowling  ...        Fiction, Young Adult, Fantasy\n",
              "3       Franz Kafka  ...   Fiction, Philosophy, Short Stories\n",
              "4  Ernest Hemingway  ...                              Fiction\n",
              "\n",
              "[5 rows x 4 columns]"
            ]
          },
          "metadata": {
            "tags": []
          },
          "execution_count": 14
        }
      ]
    },
    {
      "cell_type": "code",
      "metadata": {
        "id": "yXhckaTWwDed",
        "colab_type": "code",
        "colab": {}
      },
      "source": [
        "def author_date(string):\n",
        "    return dt.datetime.strptime(string,\"%B %d, %Y\").year\n",
        "def add_birth_date(string):\n",
        "    return author_df[author_df['author']==string]['born_date'].iloc[0]\n",
        "def add_genre(string):\n",
        "    return author_df[author_df['author']==string]['genre'].iloc[0]"
      ],
      "execution_count": null,
      "outputs": []
    },
    {
      "cell_type": "code",
      "metadata": {
        "id": "Tz-3PVugwGy9",
        "colab_type": "code",
        "colab": {}
      },
      "source": [
        "author_df['born_date']=author_df['born_date'].apply(author_date)\n",
        "df_clean['birth_date']=df_clean['author_name'].apply(add_birth_date)\n",
        "df_clean['work_age']=df_clean['year']-df_clean['birth_date']\n",
        "df_clean['genre']=df_clean['author_name'].apply(add_genre)"
      ],
      "execution_count": null,
      "outputs": []
    },
    {
      "cell_type": "code",
      "metadata": {
        "id": "ZKvnjrsgyHDt",
        "colab_type": "code",
        "colab": {
          "base_uri": "https://localhost:8080/",
          "height": 153
        },
        "outputId": "c1786ad3-3b97-473e-9718-6e89990debde"
      },
      "source": [
        "df_clean['work_age'].unique()"
      ],
      "execution_count": null,
      "outputs": [
        {
          "output_type": "execute_result",
          "data": {
            "text/plain": [
              "array([ 40,  64,  29, 122, 127,  79,  88,  43,  35, 112,  77, 133, 114,\n",
              "        31,  45,  91,  48,  49, 116,  75, 129, 125,  82, 111,  94, 108,\n",
              "       136, 121, 119, 124, 130, 118, 131, 126,  51, 115, 128,  76,  89,\n",
              "        97,  98,  93,  92,  99,  95, 132,  32,  42,  34,  36,  21,  46,\n",
              "        55,  30, 141,  33,  72,  22,  25,  26,  50,  27,  23,  24,  70,\n",
              "        71,  38,  47,  53,  52,  39,  63,  44,  41,  69,  66,  65,  96,\n",
              "       106,  84,  78,  73, 104, 123, 110,  81,  37,  87,  85,  62,  28,\n",
              "        67,  86, 100, 102, 109, 101,  80, 113,  68, 103,  54])"
            ]
          },
          "metadata": {
            "tags": []
          },
          "execution_count": 17
        }
      ]
    },
    {
      "cell_type": "markdown",
      "metadata": {
        "id": "G9GUIZbwyP-Y",
        "colab_type": "text"
      },
      "source": [
        "Most of the authors died long before 100 year old, so the books with these ages are also actually collected by other people, these should be removed as well."
      ]
    },
    {
      "cell_type": "code",
      "metadata": {
        "id": "zy7sgo8qyKEz",
        "colab_type": "code",
        "colab": {}
      },
      "source": [
        "df_clean=df_clean.drop(labels=df_clean[(df_clean['author_name']=='Kahlil Gibran') & (df_clean['work_age']>48)].index)\n",
        "df_clean=df_clean.drop(labels=df_clean[(df_clean['author_name']=='J.D. Salinger') & (df_clean['work_age']>91)].index)\n",
        "df_clean=df_clean.drop(labels=df_clean[(df_clean['author_name']=='Franz Kafka') & (df_clean['work_age']>41)].index)\n",
        "df_clean=df_clean.drop(labels=df_clean[(df_clean['author_name']=='Ernest Hemingway') & (df_clean['work_age']>62)].index)\n",
        "df_clean=df_clean.reset_index().drop(columns='index')"
      ],
      "execution_count": null,
      "outputs": []
    },
    {
      "cell_type": "code",
      "metadata": {
        "id": "qkA28DP5ylDo",
        "colab_type": "code",
        "colab": {
          "base_uri": "https://localhost:8080/",
          "height": 711
        },
        "outputId": "c5965310-89bd-445a-d32c-8a782128954d"
      },
      "source": [
        "df_clean"
      ],
      "execution_count": null,
      "outputs": [
        {
          "output_type": "execute_result",
          "data": {
            "text/html": [
              "<div>\n",
              "<style scoped>\n",
              "    .dataframe tbody tr th:only-of-type {\n",
              "        vertical-align: middle;\n",
              "    }\n",
              "\n",
              "    .dataframe tbody tr th {\n",
              "        vertical-align: top;\n",
              "    }\n",
              "\n",
              "    .dataframe thead th {\n",
              "        text-align: right;\n",
              "    }\n",
              "</style>\n",
              "<table border=\"1\" class=\"dataframe\">\n",
              "  <thead>\n",
              "    <tr style=\"text-align: right;\">\n",
              "      <th></th>\n",
              "      <th>id</th>\n",
              "      <th>title</th>\n",
              "      <th>author_name</th>\n",
              "      <th>author_id</th>\n",
              "      <th>editions</th>\n",
              "      <th>year</th>\n",
              "      <th>avg_rating</th>\n",
              "      <th>ratings_count</th>\n",
              "      <th>text_reviews_count</th>\n",
              "      <th>image_url</th>\n",
              "      <th>birth_date</th>\n",
              "      <th>work_age</th>\n",
              "      <th>genre</th>\n",
              "    </tr>\n",
              "  </thead>\n",
              "  <tbody>\n",
              "    <tr>\n",
              "      <th>0</th>\n",
              "      <td>2938937</td>\n",
              "      <td>The Prophet</td>\n",
              "      <td>Kahlil Gibran</td>\n",
              "      <td>6466154</td>\n",
              "      <td>200</td>\n",
              "      <td>1923</td>\n",
              "      <td>4.23</td>\n",
              "      <td>227096</td>\n",
              "      <td>9211</td>\n",
              "      <td>https://i.gr-assets.com/images/S/compressed.ph...</td>\n",
              "      <td>1883</td>\n",
              "      <td>40</td>\n",
              "      <td>Philosophy, Poetry, Spirituality</td>\n",
              "    </tr>\n",
              "    <tr>\n",
              "      <th>1</th>\n",
              "      <td>1676536</td>\n",
              "      <td>The Broken Wings</td>\n",
              "      <td>Kahlil Gibran</td>\n",
              "      <td>6466154</td>\n",
              "      <td>213</td>\n",
              "      <td>1912</td>\n",
              "      <td>3.93</td>\n",
              "      <td>16504</td>\n",
              "      <td>1994</td>\n",
              "      <td>https://s.gr-assets.com/assets/nophoto/book/11...</td>\n",
              "      <td>1883</td>\n",
              "      <td>29</td>\n",
              "      <td>Philosophy, Poetry, Spirituality</td>\n",
              "    </tr>\n",
              "    <tr>\n",
              "      <th>2</th>\n",
              "      <td>2779610</td>\n",
              "      <td>Sand and Foam</td>\n",
              "      <td>Kahlil Gibran</td>\n",
              "      <td>6466154</td>\n",
              "      <td>116</td>\n",
              "      <td>1926</td>\n",
              "      <td>4.07</td>\n",
              "      <td>5581</td>\n",
              "      <td>613</td>\n",
              "      <td>https://s.gr-assets.com/assets/nophoto/book/11...</td>\n",
              "      <td>1883</td>\n",
              "      <td>43</td>\n",
              "      <td>Philosophy, Poetry, Spirituality</td>\n",
              "    </tr>\n",
              "    <tr>\n",
              "      <th>3</th>\n",
              "      <td>6517</td>\n",
              "      <td>The Madman</td>\n",
              "      <td>Kahlil Gibran</td>\n",
              "      <td>6466154</td>\n",
              "      <td>267</td>\n",
              "      <td>1918</td>\n",
              "      <td>4.07</td>\n",
              "      <td>7620</td>\n",
              "      <td>681</td>\n",
              "      <td>https://s.gr-assets.com/assets/nophoto/book/11...</td>\n",
              "      <td>1883</td>\n",
              "      <td>35</td>\n",
              "      <td>Philosophy, Poetry, Spirituality</td>\n",
              "    </tr>\n",
              "    <tr>\n",
              "      <th>4</th>\n",
              "      <td>1826005</td>\n",
              "      <td>A Tear and a Smile</td>\n",
              "      <td>Kahlil Gibran</td>\n",
              "      <td>6466154</td>\n",
              "      <td>164</td>\n",
              "      <td>1914</td>\n",
              "      <td>4.00</td>\n",
              "      <td>4530</td>\n",
              "      <td>361</td>\n",
              "      <td>https://i.gr-assets.com/images/S/compressed.ph...</td>\n",
              "      <td>1883</td>\n",
              "      <td>31</td>\n",
              "      <td>Philosophy, Poetry, Spirituality</td>\n",
              "    </tr>\n",
              "    <tr>\n",
              "      <th>...</th>\n",
              "      <td>...</td>\n",
              "      <td>...</td>\n",
              "      <td>...</td>\n",
              "      <td>...</td>\n",
              "      <td>...</td>\n",
              "      <td>...</td>\n",
              "      <td>...</td>\n",
              "      <td>...</td>\n",
              "      <td>...</td>\n",
              "      <td>...</td>\n",
              "      <td>...</td>\n",
              "      <td>...</td>\n",
              "      <td>...</td>\n",
              "    </tr>\n",
              "    <tr>\n",
              "      <th>136</th>\n",
              "      <td>3988386</td>\n",
              "      <td>The End of Something</td>\n",
              "      <td>Ernest Hemingway</td>\n",
              "      <td>1455</td>\n",
              "      <td>3</td>\n",
              "      <td>1925</td>\n",
              "      <td>3.45</td>\n",
              "      <td>216</td>\n",
              "      <td>13</td>\n",
              "      <td>https://s.gr-assets.com/assets/nophoto/book/11...</td>\n",
              "      <td>1899</td>\n",
              "      <td>26</td>\n",
              "      <td>Fiction</td>\n",
              "    </tr>\n",
              "    <tr>\n",
              "      <th>137</th>\n",
              "      <td>3970824</td>\n",
              "      <td>The Hemingway Reader</td>\n",
              "      <td>Ernest Hemingway</td>\n",
              "      <td>1455</td>\n",
              "      <td>8</td>\n",
              "      <td>1953</td>\n",
              "      <td>4.06</td>\n",
              "      <td>49</td>\n",
              "      <td>8</td>\n",
              "      <td>https://s.gr-assets.com/assets/nophoto/book/11...</td>\n",
              "      <td>1899</td>\n",
              "      <td>54</td>\n",
              "      <td>Fiction</td>\n",
              "    </tr>\n",
              "    <tr>\n",
              "      <th>138</th>\n",
              "      <td>41095645</td>\n",
              "      <td>Cuentos</td>\n",
              "      <td>Ernest Hemingway</td>\n",
              "      <td>1455</td>\n",
              "      <td>9</td>\n",
              "      <td>1938</td>\n",
              "      <td>4.00</td>\n",
              "      <td>221</td>\n",
              "      <td>18</td>\n",
              "      <td>https://i.gr-assets.com/images/S/compressed.ph...</td>\n",
              "      <td>1899</td>\n",
              "      <td>39</td>\n",
              "      <td>Fiction</td>\n",
              "    </tr>\n",
              "    <tr>\n",
              "      <th>139</th>\n",
              "      <td>26344204</td>\n",
              "      <td>The Three Days Blow</td>\n",
              "      <td>Ernest Hemingway</td>\n",
              "      <td>1455</td>\n",
              "      <td>3</td>\n",
              "      <td>1925</td>\n",
              "      <td>3.12</td>\n",
              "      <td>175</td>\n",
              "      <td>23</td>\n",
              "      <td>https://s.gr-assets.com/assets/nophoto/book/11...</td>\n",
              "      <td>1899</td>\n",
              "      <td>26</td>\n",
              "      <td>Fiction</td>\n",
              "    </tr>\n",
              "    <tr>\n",
              "      <th>140</th>\n",
              "      <td>12545720</td>\n",
              "      <td>The Undefeated</td>\n",
              "      <td>Ernest Hemingway</td>\n",
              "      <td>1455</td>\n",
              "      <td>11</td>\n",
              "      <td>1927</td>\n",
              "      <td>3.30</td>\n",
              "      <td>169</td>\n",
              "      <td>15</td>\n",
              "      <td>https://i.gr-assets.com/images/S/compressed.ph...</td>\n",
              "      <td>1899</td>\n",
              "      <td>28</td>\n",
              "      <td>Fiction</td>\n",
              "    </tr>\n",
              "  </tbody>\n",
              "</table>\n",
              "<p>141 rows × 13 columns</p>\n",
              "</div>"
            ],
            "text/plain": [
              "           id                 title  ... work_age                             genre\n",
              "0     2938937           The Prophet  ...       40  Philosophy, Poetry, Spirituality\n",
              "1     1676536      The Broken Wings  ...       29  Philosophy, Poetry, Spirituality\n",
              "2     2779610         Sand and Foam  ...       43  Philosophy, Poetry, Spirituality\n",
              "3        6517            The Madman  ...       35  Philosophy, Poetry, Spirituality\n",
              "4     1826005    A Tear and a Smile  ...       31  Philosophy, Poetry, Spirituality\n",
              "..        ...                   ...  ...      ...                               ...\n",
              "136   3988386  The End of Something  ...       26                           Fiction\n",
              "137   3970824  The Hemingway Reader  ...       54                           Fiction\n",
              "138  41095645               Cuentos  ...       39                           Fiction\n",
              "139  26344204   The Three Days Blow  ...       26                           Fiction\n",
              "140  12545720        The Undefeated  ...       28                           Fiction\n",
              "\n",
              "[141 rows x 13 columns]"
            ]
          },
          "metadata": {
            "tags": []
          },
          "execution_count": 19
        }
      ]
    },
    {
      "cell_type": "markdown",
      "metadata": {
        "id": "J_PL_k-tyqOI",
        "colab_type": "text"
      },
      "source": [
        "# 4. Data analysis"
      ]
    },
    {
      "cell_type": "code",
      "metadata": {
        "id": "UMlkMs5BBxLD",
        "colab_type": "code",
        "colab": {
          "base_uri": "https://localhost:8080/",
          "height": 71
        },
        "outputId": "64ec704d-4135-44b3-ad3c-259129d739fc"
      },
      "source": [
        "# Import visualization library\n",
        "%matplotlib inline\n",
        "import matplotlib.pyplot as plt\n",
        "import seaborn as sns\n",
        "# import plotly.express as px\n",
        "\n",
        "\n",
        "# Display all cell outputs\n",
        "from IPython.core.interactiveshell import InteractiveShell\n",
        "InteractiveShell.ast_node_interactivity = 'all'\n",
        "\n",
        "\n",
        "from plotly.offline import iplot, init_notebook_mode\n",
        "import cufflinks as cf\n",
        "import plotly.graph_objs as go\n",
        "# import chart_studio.plotly as py\n",
        "\n",
        "init_notebook_mode(connected=True)\n",
        "cf.go_offline(connected=True)\n",
        "\n",
        "# Set global theme\n",
        "cf.set_config_file(world_readable=True, theme='pearl')"
      ],
      "execution_count": null,
      "outputs": [
        {
          "output_type": "stream",
          "text": [
            "/usr/local/lib/python3.6/dist-packages/statsmodels/tools/_testing.py:19: FutureWarning: pandas.util.testing is deprecated. Use the functions in the public API at pandas.testing instead.\n",
            "  import pandas.util.testing as tm\n"
          ],
          "name": "stderr"
        },
        {
          "output_type": "display_data",
          "data": {
            "text/html": [
              "        <script type=\"text/javascript\">\n",
              "        window.PlotlyConfig = {MathJaxConfig: 'local'};\n",
              "        if (window.MathJax) {MathJax.Hub.Config({SVG: {font: \"STIX-Web\"}});}\n",
              "        if (typeof require !== 'undefined') {\n",
              "        require.undef(\"plotly\");\n",
              "        requirejs.config({\n",
              "            paths: {\n",
              "                'plotly': ['https://cdn.plot.ly/plotly-latest.min']\n",
              "            }\n",
              "        });\n",
              "        require(['plotly'], function(Plotly) {\n",
              "            window._Plotly = Plotly;\n",
              "        });\n",
              "        }\n",
              "        </script>\n",
              "        "
            ]
          },
          "metadata": {
            "tags": []
          }
        },
        {
          "output_type": "display_data",
          "data": {
            "text/html": [
              "        <script type=\"text/javascript\">\n",
              "        window.PlotlyConfig = {MathJaxConfig: 'local'};\n",
              "        if (window.MathJax) {MathJax.Hub.Config({SVG: {font: \"STIX-Web\"}});}\n",
              "        if (typeof require !== 'undefined') {\n",
              "        require.undef(\"plotly\");\n",
              "        requirejs.config({\n",
              "            paths: {\n",
              "                'plotly': ['https://cdn.plot.ly/plotly-latest.min']\n",
              "            }\n",
              "        });\n",
              "        require(['plotly'], function(Plotly) {\n",
              "            window._Plotly = Plotly;\n",
              "        });\n",
              "        }\n",
              "        </script>\n",
              "        "
            ]
          },
          "metadata": {
            "tags": []
          }
        }
      ]
    },
    {
      "cell_type": "markdown",
      "metadata": {
        "id": "XPgnXTOxgm4B",
        "colab_type": "text"
      },
      "source": [
        "## 4.1 Best Books"
      ]
    },
    {
      "cell_type": "markdown",
      "metadata": {
        "id": "3B5OndPuhaWa",
        "colab_type": "text"
      },
      "source": [
        "Three highest rating books for each author. Do you enjoy reading? Try these."
      ]
    },
    {
      "cell_type": "code",
      "metadata": {
        "id": "PdoqUMyLgpaH",
        "colab_type": "code",
        "colab": {
          "base_uri": "https://localhost:8080/",
          "height": 514
        },
        "outputId": "18c8a905-d480-46ec-fb2f-681dff9f2b50"
      },
      "source": [
        "df_clean.loc[df_clean.groupby(['author_name'])['avg_rating'].nlargest(n=3).to_frame().reset_index().level_1]\\\n",
        ".reset_index(drop=True)[['author_name','title','avg_rating','year','work_age']]"
      ],
      "execution_count": null,
      "outputs": [
        {
          "output_type": "execute_result",
          "data": {
            "text/html": [
              "<div>\n",
              "<style scoped>\n",
              "    .dataframe tbody tr th:only-of-type {\n",
              "        vertical-align: middle;\n",
              "    }\n",
              "\n",
              "    .dataframe tbody tr th {\n",
              "        vertical-align: top;\n",
              "    }\n",
              "\n",
              "    .dataframe thead th {\n",
              "        text-align: right;\n",
              "    }\n",
              "</style>\n",
              "<table border=\"1\" class=\"dataframe\">\n",
              "  <thead>\n",
              "    <tr style=\"text-align: right;\">\n",
              "      <th></th>\n",
              "      <th>author_name</th>\n",
              "      <th>title</th>\n",
              "      <th>avg_rating</th>\n",
              "      <th>year</th>\n",
              "      <th>work_age</th>\n",
              "    </tr>\n",
              "  </thead>\n",
              "  <tbody>\n",
              "    <tr>\n",
              "      <th>0</th>\n",
              "      <td>Ernest Hemingway</td>\n",
              "      <td>The Complete Short Stories of Ernest Hemingway</td>\n",
              "      <td>4.29</td>\n",
              "      <td>1925</td>\n",
              "      <td>26</td>\n",
              "    </tr>\n",
              "    <tr>\n",
              "      <th>1</th>\n",
              "      <td>Ernest Hemingway</td>\n",
              "      <td>A Clean Well Lighted Place</td>\n",
              "      <td>4.15</td>\n",
              "      <td>1926</td>\n",
              "      <td>27</td>\n",
              "    </tr>\n",
              "    <tr>\n",
              "      <th>2</th>\n",
              "      <td>Ernest Hemingway</td>\n",
              "      <td>The Hemingway Reader</td>\n",
              "      <td>4.06</td>\n",
              "      <td>1953</td>\n",
              "      <td>54</td>\n",
              "    </tr>\n",
              "    <tr>\n",
              "      <th>3</th>\n",
              "      <td>Franz Kafka</td>\n",
              "      <td>A Hunger Artist</td>\n",
              "      <td>4.13</td>\n",
              "      <td>1924</td>\n",
              "      <td>41</td>\n",
              "    </tr>\n",
              "    <tr>\n",
              "      <th>4</th>\n",
              "      <td>Franz Kafka</td>\n",
              "      <td>The Metamorphosis, In the Penal Colony, and Ot...</td>\n",
              "      <td>4.05</td>\n",
              "      <td>1915</td>\n",
              "      <td>32</td>\n",
              "    </tr>\n",
              "    <tr>\n",
              "      <th>5</th>\n",
              "      <td>Franz Kafka</td>\n",
              "      <td>The Metamorphosis and Other Stories</td>\n",
              "      <td>4.03</td>\n",
              "      <td>1915</td>\n",
              "      <td>32</td>\n",
              "    </tr>\n",
              "    <tr>\n",
              "      <th>6</th>\n",
              "      <td>J.D. Salinger</td>\n",
              "      <td>The Heart of a Broken Story</td>\n",
              "      <td>4.43</td>\n",
              "      <td>1941</td>\n",
              "      <td>22</td>\n",
              "    </tr>\n",
              "    <tr>\n",
              "      <th>7</th>\n",
              "      <td>J.D. Salinger</td>\n",
              "      <td>Teddy</td>\n",
              "      <td>4.42</td>\n",
              "      <td>1953</td>\n",
              "      <td>34</td>\n",
              "    </tr>\n",
              "    <tr>\n",
              "      <th>8</th>\n",
              "      <td>J.D. Salinger</td>\n",
              "      <td>A Perfect Day for Bananafish</td>\n",
              "      <td>4.33</td>\n",
              "      <td>1948</td>\n",
              "      <td>29</td>\n",
              "    </tr>\n",
              "    <tr>\n",
              "      <th>9</th>\n",
              "      <td>J.K. Rowling</td>\n",
              "      <td>Harry Potter Illustrated Box Set (Harry Potter...</td>\n",
              "      <td>4.79</td>\n",
              "      <td>2016</td>\n",
              "      <td>51</td>\n",
              "    </tr>\n",
              "    <tr>\n",
              "      <th>10</th>\n",
              "      <td>J.K. Rowling</td>\n",
              "      <td>Harry Potter Boxed Set, Books 1-5 (Harry Potte...</td>\n",
              "      <td>4.78</td>\n",
              "      <td>2003</td>\n",
              "      <td>38</td>\n",
              "    </tr>\n",
              "    <tr>\n",
              "      <th>11</th>\n",
              "      <td>J.K. Rowling</td>\n",
              "      <td>Harry Potter Series Box Set (Harry Potter, #1-7)</td>\n",
              "      <td>4.74</td>\n",
              "      <td>2007</td>\n",
              "      <td>42</td>\n",
              "    </tr>\n",
              "    <tr>\n",
              "      <th>12</th>\n",
              "      <td>Kahlil Gibran</td>\n",
              "      <td>The Prophet</td>\n",
              "      <td>4.23</td>\n",
              "      <td>1923</td>\n",
              "      <td>40</td>\n",
              "    </tr>\n",
              "    <tr>\n",
              "      <th>13</th>\n",
              "      <td>Kahlil Gibran</td>\n",
              "      <td>The Prophet and the Wanderer</td>\n",
              "      <td>4.11</td>\n",
              "      <td>1923</td>\n",
              "      <td>40</td>\n",
              "    </tr>\n",
              "    <tr>\n",
              "      <th>14</th>\n",
              "      <td>Kahlil Gibran</td>\n",
              "      <td>Sand and Foam</td>\n",
              "      <td>4.07</td>\n",
              "      <td>1926</td>\n",
              "      <td>43</td>\n",
              "    </tr>\n",
              "  </tbody>\n",
              "</table>\n",
              "</div>"
            ],
            "text/plain": [
              "         author_name  ... work_age\n",
              "0   Ernest Hemingway  ...       26\n",
              "1   Ernest Hemingway  ...       27\n",
              "2   Ernest Hemingway  ...       54\n",
              "3        Franz Kafka  ...       41\n",
              "4        Franz Kafka  ...       32\n",
              "5        Franz Kafka  ...       32\n",
              "6      J.D. Salinger  ...       22\n",
              "7      J.D. Salinger  ...       34\n",
              "8      J.D. Salinger  ...       29\n",
              "9       J.K. Rowling  ...       51\n",
              "10      J.K. Rowling  ...       38\n",
              "11      J.K. Rowling  ...       42\n",
              "12     Kahlil Gibran  ...       40\n",
              "13     Kahlil Gibran  ...       40\n",
              "14     Kahlil Gibran  ...       43\n",
              "\n",
              "[15 rows x 5 columns]"
            ]
          },
          "metadata": {
            "tags": []
          },
          "execution_count": 21
        }
      ]
    },
    {
      "cell_type": "markdown",
      "metadata": {
        "id": "UXUJB16PytiO",
        "colab_type": "text"
      },
      "source": [
        "## 4.2 Ages distribution"
      ]
    },
    {
      "cell_type": "code",
      "metadata": {
        "id": "Zb_AiTwrymgg",
        "colab_type": "code",
        "colab": {
          "base_uri": "https://localhost:8080/",
          "height": 279
        },
        "outputId": "7994d77d-f368-425e-8ae4-e8601d7717e6"
      },
      "source": [
        "ax=df_clean[['author_name','work_age']].pivot(columns='author_name',values='work_age')\\\n",
        ".plot(kind='hist', alpha=0.3,bins=20)\n",
        "ax.set_xlabel(\"Age\");"
      ],
      "execution_count": null,
      "outputs": [
        {
          "output_type": "display_data",
          "data": {
            "image/png": "[encoded data removed]",
            "text/plain": [
              "<Figure size 432x288 with 1 Axes>"
            ]
          },
          "metadata": {
            "tags": [],
            "needs_background": "light"
          }
        }
      ]
    },
    {
      "cell_type": "code",
      "metadata": {
        "id": "7DH-2OecyzPe",
        "colab_type": "code",
        "colab": {
          "base_uri": "https://localhost:8080/",
          "height": 235
        },
        "outputId": "9ad65c0f-0504-4334-be23-0595d03842ba"
      },
      "source": [
        "df_clean.groupby('author_name')['work_age'].describe()"
      ],
      "execution_count": null,
      "outputs": [
        {
          "output_type": "execute_result",
          "data": {
            "text/html": [
              "<div>\n",
              "<style scoped>\n",
              "    .dataframe tbody tr th:only-of-type {\n",
              "        vertical-align: middle;\n",
              "    }\n",
              "\n",
              "    .dataframe tbody tr th {\n",
              "        vertical-align: top;\n",
              "    }\n",
              "\n",
              "    .dataframe thead th {\n",
              "        text-align: right;\n",
              "    }\n",
              "</style>\n",
              "<table border=\"1\" class=\"dataframe\">\n",
              "  <thead>\n",
              "    <tr style=\"text-align: right;\">\n",
              "      <th></th>\n",
              "      <th>count</th>\n",
              "      <th>mean</th>\n",
              "      <th>std</th>\n",
              "      <th>min</th>\n",
              "      <th>25%</th>\n",
              "      <th>50%</th>\n",
              "      <th>75%</th>\n",
              "      <th>max</th>\n",
              "    </tr>\n",
              "    <tr>\n",
              "      <th>author_name</th>\n",
              "      <th></th>\n",
              "      <th></th>\n",
              "      <th></th>\n",
              "      <th></th>\n",
              "      <th></th>\n",
              "      <th></th>\n",
              "      <th></th>\n",
              "      <th></th>\n",
              "    </tr>\n",
              "  </thead>\n",
              "  <tbody>\n",
              "    <tr>\n",
              "      <th>Ernest Hemingway</th>\n",
              "      <td>38.0</td>\n",
              "      <td>34.684211</td>\n",
              "      <td>9.467170</td>\n",
              "      <td>24.0</td>\n",
              "      <td>27.0</td>\n",
              "      <td>33.5</td>\n",
              "      <td>39.0</td>\n",
              "      <td>62.0</td>\n",
              "    </tr>\n",
              "    <tr>\n",
              "      <th>Franz Kafka</th>\n",
              "      <td>26.0</td>\n",
              "      <td>34.576923</td>\n",
              "      <td>4.319010</td>\n",
              "      <td>26.0</td>\n",
              "      <td>32.0</td>\n",
              "      <td>35.0</td>\n",
              "      <td>38.5</td>\n",
              "      <td>41.0</td>\n",
              "    </tr>\n",
              "    <tr>\n",
              "      <th>J.D. Salinger</th>\n",
              "      <td>35.0</td>\n",
              "      <td>35.400000</td>\n",
              "      <td>15.047376</td>\n",
              "      <td>21.0</td>\n",
              "      <td>26.0</td>\n",
              "      <td>30.0</td>\n",
              "      <td>36.0</td>\n",
              "      <td>72.0</td>\n",
              "    </tr>\n",
              "    <tr>\n",
              "      <th>J.K. Rowling</th>\n",
              "      <td>33.0</td>\n",
              "      <td>43.545455</td>\n",
              "      <td>7.233131</td>\n",
              "      <td>32.0</td>\n",
              "      <td>36.0</td>\n",
              "      <td>43.0</td>\n",
              "      <td>51.0</td>\n",
              "      <td>53.0</td>\n",
              "    </tr>\n",
              "    <tr>\n",
              "      <th>Kahlil Gibran</th>\n",
              "      <td>9.0</td>\n",
              "      <td>39.000000</td>\n",
              "      <td>6.284903</td>\n",
              "      <td>29.0</td>\n",
              "      <td>35.0</td>\n",
              "      <td>40.0</td>\n",
              "      <td>43.0</td>\n",
              "      <td>48.0</td>\n",
              "    </tr>\n",
              "  </tbody>\n",
              "</table>\n",
              "</div>"
            ],
            "text/plain": [
              "                  count       mean        std   min   25%   50%   75%   max\n",
              "author_name                                                                \n",
              "Ernest Hemingway   38.0  34.684211   9.467170  24.0  27.0  33.5  39.0  62.0\n",
              "Franz Kafka        26.0  34.576923   4.319010  26.0  32.0  35.0  38.5  41.0\n",
              "J.D. Salinger      35.0  35.400000  15.047376  21.0  26.0  30.0  36.0  72.0\n",
              "J.K. Rowling       33.0  43.545455   7.233131  32.0  36.0  43.0  51.0  53.0\n",
              "Kahlil Gibran       9.0  39.000000   6.284903  29.0  35.0  40.0  43.0  48.0"
            ]
          },
          "metadata": {
            "tags": []
          },
          "execution_count": 23
        }
      ]
    },
    {
      "cell_type": "markdown",
      "metadata": {
        "id": "tfLTL-QDwvoX",
        "colab_type": "text"
      },
      "source": [
        "Observations: \n",
        "- Among the books within the data set, J.D.Salinger published his book with youngest age at 21 years old while J.K.Rowling has her first book at the age of 32.  \n",
        "- The writer had his book published at the oldest age is J.D.Salinger at 72 years old while Kafka has his last book at the age of 41\n",
        "- 3 among 5 authors published 75% of their works when they were under 40 years old."
      ]
    },
    {
      "cell_type": "markdown",
      "metadata": {
        "id": "P9nGYc3tp3bk",
        "colab_type": "text"
      },
      "source": [
        "## 4.3 Average rate versus authors ages"
      ]
    },
    {
      "cell_type": "code",
      "metadata": {
        "id": "e4i5gLUxH8AD",
        "colab_type": "code",
        "colab": {
          "base_uri": "https://localhost:8080/",
          "height": 274
        },
        "outputId": "f239e353-42e5-4df9-f88b-11b501e9c3dd"
      },
      "source": [
        "# Work age vs average rate\n",
        "ax=df_clean.groupby(['author_name','work_age']).avg_rating.mean().to_frame().reset_index()\\\n",
        ".pivot(index='work_age',columns='author_name',values='avg_rating').plot(kind='bar',figsize=(17,4),width=2,alpha=0.5)\n",
        "ax.legend(loc='upper center', bbox_to_anchor=(0.5, 1.15),ncol=5)\n",
        "ax.set_xticklabels(df_clean.groupby(['author_name','work_age']).avg_rating.mean().to_frame().reset_index()\\\n",
        ".pivot(index='work_age',columns='author_name',values='avg_rating').index, rotation=0);\n",
        "ax.set(xlabel='Age',ylabel=\"Average Rating\");\n",
        "ax.hlines(4, -.5,36.5, linestyles='dashed');"
      ],
      "execution_count": null,
      "outputs": [
        {
          "output_type": "display_data",
          "data": {
            "image/png": "[encoded data removed]",
            "text/plain": [
              "<Figure size 1224x288 with 1 Axes>"
            ]
          },
          "metadata": {
            "tags": [],
            "needs_background": "light"
          }
        }
      ]
    },
    {
      "cell_type": "markdown",
      "metadata": {
        "id": "-sLPPP6XqAr-",
        "colab_type": "text"
      },
      "source": [
        "Observation: \n",
        "- Some authors best works appeared during some ages, like J. K. Rowling's best works appeared around 40s.\n",
        "- Some authors best works evenly distributed their life, like J. D. Salinger."
      ]
    },
    {
      "cell_type": "markdown",
      "metadata": {
        "id": "CFrjsy5vnq4t",
        "colab_type": "text"
      },
      "source": [
        "## 4.4 Authors average ratings and genre"
      ]
    },
    {
      "cell_type": "code",
      "metadata": {
        "id": "tR1jgxwGnv1R",
        "colab_type": "code",
        "colab": {
          "base_uri": "https://localhost:8080/",
          "height": 282
        },
        "outputId": "1b0db157-d28b-4d2b-8d8e-39a07a87f0d1"
      },
      "source": [
        "df_clean.pivot(columns='author_name',values='avg_rating').plot(kind='box',figsize=(8,4)\\\n",
        "      ,color = {'boxes': 'DarkGreen', 'whiskers': 'DarkOrange','medians': 'DarkBlue', 'caps': 'Gray'})"
      ],
      "execution_count": null,
      "outputs": [
        {
          "output_type": "execute_result",
          "data": {
            "text/plain": [
              "<matplotlib.axes._subplots.AxesSubplot at 0x7fd689f930b8>"
            ]
          },
          "metadata": {
            "tags": []
          },
          "execution_count": 25
        },
        {
          "output_type": "display_data",
          "data": {
            "image/png": "[encoded data removed]",
            "text/plain": [
              "<Figure size 576x288 with 1 Axes>"
            ]
          },
          "metadata": {
            "tags": [],
            "needs_background": "light"
          }
        }
      ]
    },
    {
      "cell_type": "code",
      "metadata": {
        "id": "DCEQHfdfiC-F",
        "colab_type": "code",
        "colab": {
          "base_uri": "https://localhost:8080/",
          "height": 204
        },
        "outputId": "fe3efcc7-cbf1-441c-c061-b4610101a0cd"
      },
      "source": [
        "author_df"
      ],
      "execution_count": null,
      "outputs": [
        {
          "output_type": "execute_result",
          "data": {
            "text/html": [
              "<div>\n",
              "<style scoped>\n",
              "    .dataframe tbody tr th:only-of-type {\n",
              "        vertical-align: middle;\n",
              "    }\n",
              "\n",
              "    .dataframe tbody tr th {\n",
              "        vertical-align: top;\n",
              "    }\n",
              "\n",
              "    .dataframe thead th {\n",
              "        text-align: right;\n",
              "    }\n",
              "</style>\n",
              "<table border=\"1\" class=\"dataframe\">\n",
              "  <thead>\n",
              "    <tr style=\"text-align: right;\">\n",
              "      <th></th>\n",
              "      <th>author</th>\n",
              "      <th>born_date</th>\n",
              "      <th>death_date</th>\n",
              "      <th>genre</th>\n",
              "    </tr>\n",
              "  </thead>\n",
              "  <tbody>\n",
              "    <tr>\n",
              "      <th>0</th>\n",
              "      <td>Kahlil Gibran</td>\n",
              "      <td>1883</td>\n",
              "      <td>April 10, 1931</td>\n",
              "      <td>Philosophy, Poetry, Spirituality</td>\n",
              "    </tr>\n",
              "    <tr>\n",
              "      <th>1</th>\n",
              "      <td>J.D. Salinger</td>\n",
              "      <td>1919</td>\n",
              "      <td>January 27, 2010</td>\n",
              "      <td>Literature &amp; Fiction, Short Stories</td>\n",
              "    </tr>\n",
              "    <tr>\n",
              "      <th>2</th>\n",
              "      <td>J.K. Rowling</td>\n",
              "      <td>1965</td>\n",
              "      <td>-</td>\n",
              "      <td>Fiction, Young Adult, Fantasy</td>\n",
              "    </tr>\n",
              "    <tr>\n",
              "      <th>3</th>\n",
              "      <td>Franz Kafka</td>\n",
              "      <td>1883</td>\n",
              "      <td>June 03, 1924</td>\n",
              "      <td>Fiction, Philosophy, Short Stories</td>\n",
              "    </tr>\n",
              "    <tr>\n",
              "      <th>4</th>\n",
              "      <td>Ernest Hemingway</td>\n",
              "      <td>1899</td>\n",
              "      <td>July 02, 1961</td>\n",
              "      <td>Fiction</td>\n",
              "    </tr>\n",
              "  </tbody>\n",
              "</table>\n",
              "</div>"
            ],
            "text/plain": [
              "             author  ...                                genre\n",
              "0     Kahlil Gibran  ...     Philosophy, Poetry, Spirituality\n",
              "1     J.D. Salinger  ...  Literature & Fiction, Short Stories\n",
              "2      J.K. Rowling  ...        Fiction, Young Adult, Fantasy\n",
              "3       Franz Kafka  ...   Fiction, Philosophy, Short Stories\n",
              "4  Ernest Hemingway  ...                              Fiction\n",
              "\n",
              "[5 rows x 4 columns]"
            ]
          },
          "metadata": {
            "tags": []
          },
          "execution_count": 26
        }
      ]
    },
    {
      "cell_type": "markdown",
      "metadata": {
        "id": "MvvQ7JVCiXfD",
        "colab_type": "text"
      },
      "source": [
        "Conclusion: People prefer Fantasy (J.K. Rowling), and short stories (J.K. Rowling, J.D. Salinger). Fictions depend on people's taste (Ernest Hemingway, Franz Kafka). While for Philosophical topics, people have unique opinions (Kahlil Gibran)."
      ]
    },
    {
      "cell_type": "markdown",
      "metadata": {
        "id": "Q0ks1gTM6pg5",
        "colab_type": "text"
      },
      "source": [
        "\n",
        "## 4.5 Authors and the quality of their works (analyze editions, work_age, year, ratings)"
      ]
    },
    {
      "cell_type": "code",
      "metadata": {
        "id": "QymS2moB6t8Z",
        "colab_type": "code",
        "colab": {
          "base_uri": "https://localhost:8080/",
          "height": 136
        },
        "outputId": "8b88da53-8c3d-4055-d6e6-e3e0397c752b"
      },
      "source": [
        "df_clean.groupby('author_name')['editions'].sum()"
      ],
      "execution_count": null,
      "outputs": [
        {
          "output_type": "execute_result",
          "data": {
            "text/plain": [
              "author_name\n",
              "Ernest Hemingway    5074\n",
              "Franz Kafka         4485\n",
              "J.D. Salinger       1003\n",
              "J.K. Rowling         931\n",
              "Kahlil Gibran       1226\n",
              "Name: editions, dtype: int64"
            ]
          },
          "metadata": {
            "tags": []
          },
          "execution_count": 27
        }
      ]
    },
    {
      "cell_type": "markdown",
      "metadata": {
        "id": "4v8QZQcM6xCp",
        "colab_type": "text"
      },
      "source": [
        "Authors with most editions of work: Ernest Hemingway"
      ]
    },
    {
      "cell_type": "code",
      "metadata": {
        "id": "hmfRt46e69SH",
        "colab_type": "code",
        "colab": {
          "base_uri": "https://localhost:8080/",
          "height": 702
        },
        "outputId": "8c925c16-031f-4714-cc78-ca24ad744d3f"
      },
      "source": [
        "# Top 10 books with the most editions\n",
        "df_top10 = df_clean.sort_values('editions', ascending = False).head(10)\n",
        "df_top10"
      ],
      "execution_count": null,
      "outputs": [
        {
          "output_type": "execute_result",
          "data": {
            "text/html": [
              "<div>\n",
              "<style scoped>\n",
              "    .dataframe tbody tr th:only-of-type {\n",
              "        vertical-align: middle;\n",
              "    }\n",
              "\n",
              "    .dataframe tbody tr th {\n",
              "        vertical-align: top;\n",
              "    }\n",
              "\n",
              "    .dataframe thead th {\n",
              "        text-align: right;\n",
              "    }\n",
              "</style>\n",
              "<table border=\"1\" class=\"dataframe\">\n",
              "  <thead>\n",
              "    <tr style=\"text-align: right;\">\n",
              "      <th></th>\n",
              "      <th>id</th>\n",
              "      <th>title</th>\n",
              "      <th>author_name</th>\n",
              "      <th>author_id</th>\n",
              "      <th>editions</th>\n",
              "      <th>year</th>\n",
              "      <th>avg_rating</th>\n",
              "      <th>ratings_count</th>\n",
              "      <th>text_reviews_count</th>\n",
              "      <th>image_url</th>\n",
              "      <th>birth_date</th>\n",
              "      <th>work_age</th>\n",
              "      <th>genre</th>\n",
              "    </tr>\n",
              "  </thead>\n",
              "  <tbody>\n",
              "    <tr>\n",
              "      <th>77</th>\n",
              "      <td>2373750</td>\n",
              "      <td>The Metamorphosis</td>\n",
              "      <td>Franz Kafka</td>\n",
              "      <td>5223</td>\n",
              "      <td>2623</td>\n",
              "      <td>1915</td>\n",
              "      <td>3.82</td>\n",
              "      <td>614425</td>\n",
              "      <td>16734</td>\n",
              "      <td>https://i.gr-assets.com/images/S/compressed.ph...</td>\n",
              "      <td>1883</td>\n",
              "      <td>32</td>\n",
              "      <td>Fiction, Philosophy, Short Stories</td>\n",
              "    </tr>\n",
              "    <tr>\n",
              "      <th>105</th>\n",
              "      <td>589497</td>\n",
              "      <td>The Sun Also Rises</td>\n",
              "      <td>Ernest Hemingway</td>\n",
              "      <td>1455</td>\n",
              "      <td>1145</td>\n",
              "      <td>1926</td>\n",
              "      <td>3.82</td>\n",
              "      <td>360543</td>\n",
              "      <td>12542</td>\n",
              "      <td>https://i.gr-assets.com/images/S/compressed.ph...</td>\n",
              "      <td>1899</td>\n",
              "      <td>27</td>\n",
              "      <td>Fiction</td>\n",
              "    </tr>\n",
              "    <tr>\n",
              "      <th>106</th>\n",
              "      <td>4652599</td>\n",
              "      <td>A Farewell to Arms</td>\n",
              "      <td>Ernest Hemingway</td>\n",
              "      <td>1455</td>\n",
              "      <td>1114</td>\n",
              "      <td>1929</td>\n",
              "      <td>3.81</td>\n",
              "      <td>258058</td>\n",
              "      <td>9415</td>\n",
              "      <td>https://i.gr-assets.com/images/S/compressed.ph...</td>\n",
              "      <td>1899</td>\n",
              "      <td>30</td>\n",
              "      <td>Fiction</td>\n",
              "    </tr>\n",
              "    <tr>\n",
              "      <th>79</th>\n",
              "      <td>17778410</td>\n",
              "      <td>The Castle</td>\n",
              "      <td>Franz Kafka</td>\n",
              "      <td>5223</td>\n",
              "      <td>568</td>\n",
              "      <td>1922</td>\n",
              "      <td>3.96</td>\n",
              "      <td>43013</td>\n",
              "      <td>1996</td>\n",
              "      <td>https://i.gr-assets.com/images/S/compressed.ph...</td>\n",
              "      <td>1883</td>\n",
              "      <td>39</td>\n",
              "      <td>Fiction, Philosophy, Short Stories</td>\n",
              "    </tr>\n",
              "    <tr>\n",
              "      <th>107</th>\n",
              "      <td>2252079</td>\n",
              "      <td>For Whom the Bell Tolls</td>\n",
              "      <td>Ernest Hemingway</td>\n",
              "      <td>1455</td>\n",
              "      <td>559</td>\n",
              "      <td>1940</td>\n",
              "      <td>3.97</td>\n",
              "      <td>245410</td>\n",
              "      <td>6274</td>\n",
              "      <td>https://i.gr-assets.com/images/S/compressed.ph...</td>\n",
              "      <td>1899</td>\n",
              "      <td>41</td>\n",
              "      <td>Fiction</td>\n",
              "    </tr>\n",
              "    <tr>\n",
              "      <th>9</th>\n",
              "      <td>3036731</td>\n",
              "      <td>The Catcher in the Rye</td>\n",
              "      <td>J.D. Salinger</td>\n",
              "      <td>819789</td>\n",
              "      <td>471</td>\n",
              "      <td>1951</td>\n",
              "      <td>3.81</td>\n",
              "      <td>2675185</td>\n",
              "      <td>56044</td>\n",
              "      <td>https://i.gr-assets.com/images/S/compressed.ph...</td>\n",
              "      <td>1919</td>\n",
              "      <td>32</td>\n",
              "      <td>Literature &amp; Fiction, Short Stories</td>\n",
              "    </tr>\n",
              "    <tr>\n",
              "      <th>111</th>\n",
              "      <td>764891</td>\n",
              "      <td>Men Without Women</td>\n",
              "      <td>Ernest Hemingway</td>\n",
              "      <td>1455</td>\n",
              "      <td>360</td>\n",
              "      <td>1927</td>\n",
              "      <td>3.65</td>\n",
              "      <td>9440</td>\n",
              "      <td>655</td>\n",
              "      <td>https://s.gr-assets.com/assets/nophoto/book/11...</td>\n",
              "      <td>1899</td>\n",
              "      <td>28</td>\n",
              "      <td>Fiction</td>\n",
              "    </tr>\n",
              "    <tr>\n",
              "      <th>115</th>\n",
              "      <td>360058</td>\n",
              "      <td>Death in the Afternoon</td>\n",
              "      <td>Ernest Hemingway</td>\n",
              "      <td>1455</td>\n",
              "      <td>283</td>\n",
              "      <td>1932</td>\n",
              "      <td>3.70</td>\n",
              "      <td>7529</td>\n",
              "      <td>414</td>\n",
              "      <td>https://s.gr-assets.com/assets/nophoto/book/11...</td>\n",
              "      <td>1899</td>\n",
              "      <td>33</td>\n",
              "      <td>Fiction</td>\n",
              "    </tr>\n",
              "    <tr>\n",
              "      <th>81</th>\n",
              "      <td>13722925</td>\n",
              "      <td>In the Penal Colony</td>\n",
              "      <td>Franz Kafka</td>\n",
              "      <td>5223</td>\n",
              "      <td>278</td>\n",
              "      <td>1919</td>\n",
              "      <td>3.97</td>\n",
              "      <td>15731</td>\n",
              "      <td>873</td>\n",
              "      <td>https://i.gr-assets.com/images/S/compressed.ph...</td>\n",
              "      <td>1883</td>\n",
              "      <td>36</td>\n",
              "      <td>Fiction, Philosophy, Short Stories</td>\n",
              "    </tr>\n",
              "    <tr>\n",
              "      <th>3</th>\n",
              "      <td>6517</td>\n",
              "      <td>The Madman</td>\n",
              "      <td>Kahlil Gibran</td>\n",
              "      <td>6466154</td>\n",
              "      <td>267</td>\n",
              "      <td>1918</td>\n",
              "      <td>4.07</td>\n",
              "      <td>7620</td>\n",
              "      <td>681</td>\n",
              "      <td>https://s.gr-assets.com/assets/nophoto/book/11...</td>\n",
              "      <td>1883</td>\n",
              "      <td>35</td>\n",
              "      <td>Philosophy, Poetry, Spirituality</td>\n",
              "    </tr>\n",
              "  </tbody>\n",
              "</table>\n",
              "</div>"
            ],
            "text/plain": [
              "           id  ...                                genre\n",
              "77    2373750  ...   Fiction, Philosophy, Short Stories\n",
              "105    589497  ...                              Fiction\n",
              "106   4652599  ...                              Fiction\n",
              "79   17778410  ...   Fiction, Philosophy, Short Stories\n",
              "107   2252079  ...                              Fiction\n",
              "9     3036731  ...  Literature & Fiction, Short Stories\n",
              "111    764891  ...                              Fiction\n",
              "115    360058  ...                              Fiction\n",
              "81   13722925  ...   Fiction, Philosophy, Short Stories\n",
              "3        6517  ...     Philosophy, Poetry, Spirituality\n",
              "\n",
              "[10 rows x 13 columns]"
            ]
          },
          "metadata": {
            "tags": []
          },
          "execution_count": 28
        }
      ]
    },
    {
      "cell_type": "code",
      "metadata": {
        "id": "6l746_wUIzm9",
        "colab_type": "code",
        "colab": {
          "base_uri": "https://localhost:8080/",
          "height": 499
        },
        "outputId": "d88a8784-e8e0-4248-98b7-33fbf7c2d158"
      },
      "source": [
        "from collections import Counter\n",
        "genre_list=[]\n",
        "for genre_group in list(df_top10.genre):\n",
        "    genres = str.split(genre_group, ',')\n",
        "    for genre in genres:\n",
        "        genre = genre.replace(' ', '')\n",
        "        genre_list.append(genre)\n",
        "count = Counter(genre_list)\n",
        "genre_df = pd.DataFrame.from_dict(count, orient='index')\n",
        "genre_df = genre_df.reset_index()\n",
        "\n",
        "genre_df.columns = ['genre', 'frequency']\n",
        "\n",
        "fig, ax = plt.subplots(figsize=(15, 8), subplot_kw=dict(aspect=\"equal\"))\n",
        "def func(pct, allvals):\n",
        "    absolute = int(pct/100.*np.sum(allvals))\n",
        "    return \"{:.1f}%\".format(pct)\n",
        "\n",
        "\n",
        "wedges, texts, autotexts = ax.pie(genre_df.frequency, autopct=lambda pct: func(pct, genre_df.frequency),\n",
        "                                  textprops=dict(color=\"w\"))\n",
        "\n",
        "ax.legend(wedges, genre_df.genre,\n",
        "          title=\"Genre\",\n",
        "          loc=\"center left\",\n",
        "          bbox_to_anchor=(1, 0, 0.5, 1))\n",
        "\n",
        "#plt.setp(autotexts, size=8, weight=\"bold\")\n",
        "\n",
        "ax.set_title(\"Genre distribution of the top 10 books\")\n",
        "\n",
        "plt.show()"
      ],
      "execution_count": null,
      "outputs": [
        {
          "output_type": "execute_result",
          "data": {
            "text/plain": [
              "<matplotlib.legend.Legend at 0x7fd68a687ac8>"
            ]
          },
          "metadata": {
            "tags": []
          },
          "execution_count": 29
        },
        {
          "output_type": "execute_result",
          "data": {
            "text/plain": [
              "Text(0.5, 1.0, 'Genre distribution of the top 10 books')"
            ]
          },
          "metadata": {
            "tags": []
          },
          "execution_count": 29
        },
        {
          "output_type": "display_data",
          "data": {
            "image/png": "[encoded data removed]",
            "text/plain": [
              "<Figure size 1080x576 with 1 Axes>"
            ]
          },
          "metadata": {
            "tags": []
          }
        }
      ]
    },
    {
      "cell_type": "markdown",
      "metadata": {
        "id": "4kIqFNtyb806",
        "colab_type": "text"
      },
      "source": [
        "At which work age, the authors have the most editions of their works? In other words, when the authors wrote the most popular work pieces"
      ]
    },
    {
      "cell_type": "code",
      "metadata": {
        "id": "_EDEXnf4dcNI",
        "colab_type": "code",
        "colab": {
          "base_uri": "https://localhost:8080/",
          "height": 542
        },
        "outputId": "b267012e-8ba2-4922-c9a3-475e5c51af5e"
      },
      "source": [
        "import plotly.express as px\n",
        "import plotly.graph_objects as go\n",
        "fig = px.histogram(df_clean, x = 'work_age', y = 'editions', color = 'author_name')\n",
        "fig.show(renderer=\"colab\")"
      ],
      "execution_count": null,
      "outputs": [
        {
          "output_type": "display_data",
          "data": {
            "text/html": [
              "<html>\n",
              "<head><meta charset=\"utf-8\" /></head>\n",
              "<body>\n",
              "    <div>\n",
              "            <script src=\"https://cdnjs.cloudflare.com/ajax/libs/mathjax/2.7.5/MathJax.js?config=TeX-AMS-MML_SVG\"></script><script type=\"text/javascript\">if (window.MathJax) {MathJax.Hub.Config({SVG: {font: \"STIX-Web\"}});}</script>\n",
              "                <script type=\"text/javascript\">window.PlotlyConfig = {MathJaxConfig: 'local'};</script>\n",
              "        <script src=\"https://cdn.plot.ly/plotly-latest.min.js\"></script>    \n",
              "            <div id=\"63ec4c8a-374e-4a1c-b8f0-09e90dc01b6a\" class=\"plotly-graph-div\" style=\"height:525px; width:100%;\"></div>\n",
              "            <script type=\"text/javascript\">\n",
              "                \n",
              "                    window.PLOTLYENV=window.PLOTLYENV || {};\n",
              "                    \n",
              "                if (document.getElementById(\"63ec4c8a-374e-4a1c-b8f0-09e90dc01b6a\")) {\n",
              "                    Plotly.newPlot(\n",
              "                        '63ec4c8a-374e-4a1c-b8f0-09e90dc01b6a',\n",
              "                        [{\"alignmentgroup\": \"True\", \"bingroup\": \"x\", \"hoverlabel\": {\"namelength\": 0}, \"hovertemplate\": \"author_name=Kahlil Gibran<br>work_age=%{x}<br>count of editions=%{y}\", \"legendgroup\": \"author_name=Kahlil Gibran\", \"marker\": {\"color\": \"#636efa\"}, \"name\": \"author_name=Kahlil Gibran\", \"offsetgroup\": \"author_name=Kahlil Gibran\", \"orientation\": \"v\", \"showlegend\": true, \"type\": \"histogram\", \"x\": [40, 29, 43, 35, 31, 45, 48, 40, 40], \"xaxis\": \"x\", \"y\": [200, 213, 116, 267, 164, 127, 87, 47, 5], \"yaxis\": \"y\"}, {\"alignmentgroup\": \"True\", \"bingroup\": \"x\", \"hoverlabel\": {\"namelength\": 0}, \"hovertemplate\": \"author_name=J.D. Salinger<br>work_age=%{x}<br>count of editions=%{y}\", \"legendgroup\": \"author_name=J.D. Salinger\", \"marker\": {\"color\": \"#EF553B\"}, \"name\": \"author_name=J.D. Salinger\", \"offsetgroup\": \"author_name=J.D. Salinger\", \"orientation\": \"v\", \"showlegend\": true, \"type\": \"histogram\", \"x\": [32, 42, 34, 36, 29, 21, 46, 55, 29, 30, 29, 32, 29, 34, 30, 33, 72, 22, 25, 26, 25, 26, 50, 27, 23, 36, 22, 25, 24, 26, 26, 70, 31, 71, 71], \"xaxis\": \"x\", \"y\": [471, 153, 172, 104, 12, 24, 6, 8, 7, 1, 4, 3, 2, 3, 3, 2, 2, 2, 1, 2, 1, 1, 1, 1, 1, 4, 1, 2, 1, 1, 3, 1, 1, 1, 1], \"yaxis\": \"y\"}, {\"alignmentgroup\": \"True\", \"bingroup\": \"x\", \"hoverlabel\": {\"namelength\": 0}, \"hovertemplate\": \"author_name=J.K. Rowling<br>work_age=%{x}<br>count of editions=%{y}\", \"legendgroup\": \"author_name=J.K. Rowling\", \"marker\": {\"color\": \"#00cc96\"}, \"name\": \"author_name=J.K. Rowling\", \"offsetgroup\": \"author_name=J.K. Rowling\", \"orientation\": \"v\", \"showlegend\": true, \"type\": \"histogram\", \"x\": [32, 38, 34, 35, 40, 47, 42, 38, 42, 51, 33, 50, 43, 51, 53, 51, 43, 38, 51, 34, 47, 36, 51, 34, 51, 52, 51, 43, 36, 36, 53, 51, 50], \"xaxis\": \"x\", \"y\": [14, 12, 10, 8, 16, 157, 11, 7, 145, 89, 11, 37, 190, 22, 65, 19, 1, 12, 21, 22, 26, 5, 3, 16, 3, 2, 1, 1, 1, 1, 1, 1, 1], \"yaxis\": \"y\"}, {\"alignmentgroup\": \"True\", \"bingroup\": \"x\", \"hoverlabel\": {\"namelength\": 0}, \"hovertemplate\": \"author_name=Franz Kafka<br>work_age=%{x}<br>count of editions=%{y}\", \"legendgroup\": \"author_name=Franz Kafka\", \"marker\": {\"color\": \"#ab63fa\"}, \"name\": \"author_name=Franz Kafka\", \"offsetgroup\": \"author_name=Franz Kafka\", \"orientation\": \"v\", \"showlegend\": true, \"type\": \"histogram\", \"x\": [32, 32, 39, 32, 36, 41, 35, 29, 32, 39, 30, 41, 29, 29, 34, 41, 35, 32, 30, 39, 26, 36, 39, 37, 37, 37], \"xaxis\": \"x\", \"y\": [2623, 21, 568, 260, 278, 144, 79, 92, 20, 37, 20, 55, 66, 6, 15, 11, 28, 22, 53, 18, 25, 11, 10, 4, 15, 4], \"yaxis\": \"y\"}, {\"alignmentgroup\": \"True\", \"bingroup\": \"x\", \"hoverlabel\": {\"namelength\": 0}, \"hovertemplate\": \"author_name=Ernest Hemingway<br>work_age=%{x}<br>count of editions=%{y}\", \"legendgroup\": \"author_name=Ernest Hemingway\", \"marker\": {\"color\": \"#FFA15A\"}, \"name\": \"author_name=Ernest Hemingway\", \"offsetgroup\": \"author_name=Ernest Hemingway\", \"orientation\": \"v\", \"showlegend\": true, \"type\": \"histogram\", \"x\": [53, 26, 27, 30, 41, 62, 38, 25, 28, 28, 36, 51, 33, 27, 27, 37, 39, 37, 39, 34, 26, 26, 48, 37, 28, 43, 43, 34, 28, 25, 37, 28, 24, 26, 54, 39, 26, 28], \"xaxis\": \"x\", \"y\": [201, 67, 1145, 1114, 559, 152, 183, 104, 360, 10, 56, 223, 283, 7, 46, 13, 186, 19, 50, 151, 13, 4, 9, 6, 5, 11, 1, 3, 3, 2, 7, 10, 37, 3, 8, 9, 3, 11], \"yaxis\": \"y\"}],\n",
              "                        {\"barmode\": \"relative\", \"legend\": {\"tracegroupgap\": 0}, \"margin\": {\"t\": 60}, \"template\": {\"data\": {\"bar\": [{\"error_x\": {\"color\": \"#2a3f5f\"}, \"error_y\": {\"color\": \"#2a3f5f\"}, \"marker\": {\"line\": {\"color\": \"#E5ECF6\", \"width\": 0.5}}, \"type\": \"bar\"}], \"barpolar\": [{\"marker\": {\"line\": {\"color\": \"#E5ECF6\", \"width\": 0.5}}, \"type\": \"barpolar\"}], \"carpet\": [{\"aaxis\": {\"endlinecolor\": \"#2a3f5f\", \"gridcolor\": \"white\", \"linecolor\": \"white\", \"minorgridcolor\": \"white\", \"startlinecolor\": \"#2a3f5f\"}, \"baxis\": {\"endlinecolor\": \"#2a3f5f\", \"gridcolor\": \"white\", \"linecolor\": \"white\", \"minorgridcolor\": \"white\", \"startlinecolor\": \"#2a3f5f\"}, \"type\": \"carpet\"}], \"choropleth\": [{\"colorbar\": {\"outlinewidth\": 0, \"ticks\": \"\"}, \"type\": \"choropleth\"}], \"contour\": [{\"colorbar\": {\"outlinewidth\": 0, \"ticks\": \"\"}, \"colorscale\": [[0.0, \"#0d0887\"], [0.1111111111111111, \"#46039f\"], [0.2222222222222222, \"#7201a8\"], [0.3333333333333333, \"#9c179e\"], [0.4444444444444444, \"#bd3786\"], [0.5555555555555556, \"#d8576b\"], [0.6666666666666666, \"#ed7953\"], [0.7777777777777778, \"#fb9f3a\"], [0.8888888888888888, \"#fdca26\"], [1.0, \"#f0f921\"]], \"type\": \"contour\"}], \"contourcarpet\": [{\"colorbar\": {\"outlinewidth\": 0, \"ticks\": \"\"}, \"type\": \"contourcarpet\"}], \"heatmap\": [{\"colorbar\": {\"outlinewidth\": 0, \"ticks\": \"\"}, \"colorscale\": [[0.0, \"#0d0887\"], [0.1111111111111111, \"#46039f\"], [0.2222222222222222, \"#7201a8\"], [0.3333333333333333, \"#9c179e\"], [0.4444444444444444, \"#bd3786\"], [0.5555555555555556, \"#d8576b\"], [0.6666666666666666, \"#ed7953\"], [0.7777777777777778, \"#fb9f3a\"], [0.8888888888888888, \"#fdca26\"], [1.0, \"#f0f921\"]], \"type\": \"heatmap\"}], \"heatmapgl\": [{\"colorbar\": {\"outlinewidth\": 0, \"ticks\": \"\"}, \"colorscale\": [[0.0, \"#0d0887\"], [0.1111111111111111, \"#46039f\"], [0.2222222222222222, \"#7201a8\"], [0.3333333333333333, \"#9c179e\"], [0.4444444444444444, \"#bd3786\"], [0.5555555555555556, \"#d8576b\"], [0.6666666666666666, \"#ed7953\"], [0.7777777777777778, \"#fb9f3a\"], [0.8888888888888888, \"#fdca26\"], [1.0, \"#f0f921\"]], \"type\": \"heatmapgl\"}], \"histogram\": [{\"marker\": {\"colorbar\": {\"outlinewidth\": 0, \"ticks\": \"\"}}, \"type\": \"histogram\"}], \"histogram2d\": [{\"colorbar\": {\"outlinewidth\": 0, \"ticks\": \"\"}, \"colorscale\": [[0.0, \"#0d0887\"], [0.1111111111111111, \"#46039f\"], [0.2222222222222222, \"#7201a8\"], [0.3333333333333333, \"#9c179e\"], [0.4444444444444444, \"#bd3786\"], [0.5555555555555556, \"#d8576b\"], [0.6666666666666666, \"#ed7953\"], [0.7777777777777778, \"#fb9f3a\"], [0.8888888888888888, \"#fdca26\"], [1.0, \"#f0f921\"]], \"type\": \"histogram2d\"}], \"histogram2dcontour\": [{\"colorbar\": {\"outlinewidth\": 0, \"ticks\": \"\"}, \"colorscale\": [[0.0, \"#0d0887\"], [0.1111111111111111, \"#46039f\"], [0.2222222222222222, \"#7201a8\"], [0.3333333333333333, \"#9c179e\"], [0.4444444444444444, \"#bd3786\"], [0.5555555555555556, \"#d8576b\"], [0.6666666666666666, \"#ed7953\"], [0.7777777777777778, \"#fb9f3a\"], [0.8888888888888888, \"#fdca26\"], [1.0, \"#f0f921\"]], \"type\": \"histogram2dcontour\"}], \"mesh3d\": [{\"colorbar\": {\"outlinewidth\": 0, \"ticks\": \"\"}, \"type\": \"mesh3d\"}], \"parcoords\": [{\"line\": {\"colorbar\": {\"outlinewidth\": 0, \"ticks\": \"\"}}, \"type\": \"parcoords\"}], \"pie\": [{\"automargin\": true, \"type\": \"pie\"}], \"scatter\": [{\"marker\": {\"colorbar\": {\"outlinewidth\": 0, \"ticks\": \"\"}}, \"type\": \"scatter\"}], \"scatter3d\": [{\"line\": {\"colorbar\": {\"outlinewidth\": 0, \"ticks\": \"\"}}, \"marker\": {\"colorbar\": {\"outlinewidth\": 0, \"ticks\": \"\"}}, \"type\": \"scatter3d\"}], \"scattercarpet\": [{\"marker\": {\"colorbar\": {\"outlinewidth\": 0, \"ticks\": \"\"}}, \"type\": \"scattercarpet\"}], \"scattergeo\": [{\"marker\": {\"colorbar\": {\"outlinewidth\": 0, \"ticks\": \"\"}}, \"type\": \"scattergeo\"}], \"scattergl\": [{\"marker\": {\"colorbar\": {\"outlinewidth\": 0, \"ticks\": \"\"}}, \"type\": \"scattergl\"}], \"scattermapbox\": [{\"marker\": {\"colorbar\": {\"outlinewidth\": 0, \"ticks\": \"\"}}, \"type\": \"scattermapbox\"}], \"scatterpolar\": [{\"marker\": {\"colorbar\": {\"outlinewidth\": 0, \"ticks\": \"\"}}, \"type\": \"scatterpolar\"}], \"scatterpolargl\": [{\"marker\": {\"colorbar\": {\"outlinewidth\": 0, \"ticks\": \"\"}}, \"type\": \"scatterpolargl\"}], \"scatterternary\": [{\"marker\": {\"colorbar\": {\"outlinewidth\": 0, \"ticks\": \"\"}}, \"type\": \"scatterternary\"}], \"surface\": [{\"colorbar\": {\"outlinewidth\": 0, \"ticks\": \"\"}, \"colorscale\": [[0.0, \"#0d0887\"], [0.1111111111111111, \"#46039f\"], [0.2222222222222222, \"#7201a8\"], [0.3333333333333333, \"#9c179e\"], [0.4444444444444444, \"#bd3786\"], [0.5555555555555556, \"#d8576b\"], [0.6666666666666666, \"#ed7953\"], [0.7777777777777778, \"#fb9f3a\"], [0.8888888888888888, \"#fdca26\"], [1.0, \"#f0f921\"]], \"type\": \"surface\"}], \"table\": [{\"cells\": {\"fill\": {\"color\": \"#EBF0F8\"}, \"line\": {\"color\": \"white\"}}, \"header\": {\"fill\": {\"color\": \"#C8D4E3\"}, \"line\": {\"color\": \"white\"}}, \"type\": \"table\"}]}, \"layout\": {\"annotationdefaults\": {\"arrowcolor\": \"#2a3f5f\", \"arrowhead\": 0, \"arrowwidth\": 1}, \"coloraxis\": {\"colorbar\": {\"outlinewidth\": 0, \"ticks\": \"\"}}, \"colorscale\": {\"diverging\": [[0, \"#8e0152\"], [0.1, \"#c51b7d\"], [0.2, \"#de77ae\"], [0.3, \"#f1b6da\"], [0.4, \"#fde0ef\"], [0.5, \"#f7f7f7\"], [0.6, \"#e6f5d0\"], [0.7, \"#b8e186\"], [0.8, \"#7fbc41\"], [0.9, \"#4d9221\"], [1, \"#276419\"]], \"sequential\": [[0.0, \"#0d0887\"], [0.1111111111111111, \"#46039f\"], [0.2222222222222222, \"#7201a8\"], [0.3333333333333333, \"#9c179e\"], [0.4444444444444444, \"#bd3786\"], [0.5555555555555556, \"#d8576b\"], [0.6666666666666666, \"#ed7953\"], [0.7777777777777778, \"#fb9f3a\"], [0.8888888888888888, \"#fdca26\"], [1.0, \"#f0f921\"]], \"sequentialminus\": [[0.0, \"#0d0887\"], [0.1111111111111111, \"#46039f\"], [0.2222222222222222, \"#7201a8\"], [0.3333333333333333, \"#9c179e\"], [0.4444444444444444, \"#bd3786\"], [0.5555555555555556, \"#d8576b\"], [0.6666666666666666, \"#ed7953\"], [0.7777777777777778, \"#fb9f3a\"], [0.8888888888888888, \"#fdca26\"], [1.0, \"#f0f921\"]]}, \"colorway\": [\"#636efa\", \"#EF553B\", \"#00cc96\", \"#ab63fa\", \"#FFA15A\", \"#19d3f3\", \"#FF6692\", \"#B6E880\", \"#FF97FF\", \"#FECB52\"], \"font\": {\"color\": \"#2a3f5f\"}, \"geo\": {\"bgcolor\": \"white\", \"lakecolor\": \"white\", \"landcolor\": \"#E5ECF6\", \"showlakes\": true, \"showland\": true, \"subunitcolor\": \"white\"}, \"hoverlabel\": {\"align\": \"left\"}, \"hovermode\": \"closest\", \"mapbox\": {\"style\": \"light\"}, \"paper_bgcolor\": \"white\", \"plot_bgcolor\": \"#E5ECF6\", \"polar\": {\"angularaxis\": {\"gridcolor\": \"white\", \"linecolor\": \"white\", \"ticks\": \"\"}, \"bgcolor\": \"#E5ECF6\", \"radialaxis\": {\"gridcolor\": \"white\", \"linecolor\": \"white\", \"ticks\": \"\"}}, \"scene\": {\"xaxis\": {\"backgroundcolor\": \"#E5ECF6\", \"gridcolor\": \"white\", \"gridwidth\": 2, \"linecolor\": \"white\", \"showbackground\": true, \"ticks\": \"\", \"zerolinecolor\": \"white\"}, \"yaxis\": {\"backgroundcolor\": \"#E5ECF6\", \"gridcolor\": \"white\", \"gridwidth\": 2, \"linecolor\": \"white\", \"showbackground\": true, \"ticks\": \"\", \"zerolinecolor\": \"white\"}, \"zaxis\": {\"backgroundcolor\": \"#E5ECF6\", \"gridcolor\": \"white\", \"gridwidth\": 2, \"linecolor\": \"white\", \"showbackground\": true, \"ticks\": \"\", \"zerolinecolor\": \"white\"}}, \"shapedefaults\": {\"line\": {\"color\": \"#2a3f5f\"}}, \"ternary\": {\"aaxis\": {\"gridcolor\": \"white\", \"linecolor\": \"white\", \"ticks\": \"\"}, \"baxis\": {\"gridcolor\": \"white\", \"linecolor\": \"white\", \"ticks\": \"\"}, \"bgcolor\": \"#E5ECF6\", \"caxis\": {\"gridcolor\": \"white\", \"linecolor\": \"white\", \"ticks\": \"\"}}, \"title\": {\"x\": 0.05}, \"xaxis\": {\"automargin\": true, \"gridcolor\": \"white\", \"linecolor\": \"white\", \"ticks\": \"\", \"title\": {\"standoff\": 15}, \"zerolinecolor\": \"white\", \"zerolinewidth\": 2}, \"yaxis\": {\"automargin\": true, \"gridcolor\": \"white\", \"linecolor\": \"white\", \"ticks\": \"\", \"title\": {\"standoff\": 15}, \"zerolinecolor\": \"white\", \"zerolinewidth\": 2}}}, \"xaxis\": {\"anchor\": \"y\", \"domain\": [0.0, 1.0], \"title\": {\"text\": \"work_age\"}}, \"yaxis\": {\"anchor\": \"x\", \"domain\": [0.0, 1.0], \"title\": {\"text\": \"count of editions\"}}},\n",
              "                        {\"responsive\": true}\n",
              "                    ).then(function(){\n",
              "                            \n",
              "var gd = document.getElementById('63ec4c8a-374e-4a1c-b8f0-09e90dc01b6a');\n",
              "var x = new MutationObserver(function (mutations, observer) {{\n",
              "        var display = window.getComputedStyle(gd).display;\n",
              "        if (!display || display === 'none') {{\n",
              "            console.log([gd, 'removed!']);\n",
              "            Plotly.purge(gd);\n",
              "            observer.disconnect();\n",
              "        }}\n",
              "}});\n",
              "\n",
              "// Listen for the removal of the full notebook cells\n",
              "var notebookContainer = gd.closest('#notebook-container');\n",
              "if (notebookContainer) {{\n",
              "    x.observe(notebookContainer, {childList: true});\n",
              "}}\n",
              "\n",
              "// Listen for the clearing of the current output cell\n",
              "var outputEl = gd.closest('.output');\n",
              "if (outputEl) {{\n",
              "    x.observe(outputEl, {childList: true});\n",
              "}}\n",
              "\n",
              "                        })\n",
              "                };\n",
              "                \n",
              "            </script>\n",
              "        </div>\n",
              "</body>\n",
              "</html>"
            ]
          },
          "metadata": {
            "tags": []
          }
        }
      ]
    },
    {
      "cell_type": "markdown",
      "metadata": {
        "id": "kPGZIWHUdwxH",
        "colab_type": "text"
      },
      "source": [
        "Regarding the timeline, how popular the authors and their works from 1900 to 2010"
      ]
    },
    {
      "cell_type": "code",
      "metadata": {
        "id": "wS52qEsBelGB",
        "colab_type": "code",
        "colab": {
          "base_uri": "https://localhost:8080/",
          "height": 542
        },
        "outputId": "28b065b1-62b3-4f39-eeb8-266b278915b7"
      },
      "source": [
        "fig = px.histogram(df_clean, x = 'year', y = 'editions', color = 'author_name')\n",
        "fig.show(renderer=\"colab\")"
      ],
      "execution_count": null,
      "outputs": [
        {
          "output_type": "display_data",
          "data": {
            "text/html": [
              "<html>\n",
              "<head><meta charset=\"utf-8\" /></head>\n",
              "<body>\n",
              "    <div>\n",
              "            <script src=\"https://cdnjs.cloudflare.com/ajax/libs/mathjax/2.7.5/MathJax.js?config=TeX-AMS-MML_SVG\"></script><script type=\"text/javascript\">if (window.MathJax) {MathJax.Hub.Config({SVG: {font: \"STIX-Web\"}});}</script>\n",
              "                <script type=\"text/javascript\">window.PlotlyConfig = {MathJaxConfig: 'local'};</script>\n",
              "        <script src=\"https://cdn.plot.ly/plotly-latest.min.js\"></script>    \n",
              "            <div id=\"f323a54a-b5ba-464b-b3d3-6d09c2a7e3ad\" class=\"plotly-graph-div\" style=\"height:525px; width:100%;\"></div>\n",
              "            <script type=\"text/javascript\">\n",
              "                \n",
              "                    window.PLOTLYENV=window.PLOTLYENV || {};\n",
              "                    \n",
              "                if (document.getElementById(\"f323a54a-b5ba-464b-b3d3-6d09c2a7e3ad\")) {\n",
              "                    Plotly.newPlot(\n",
              "                        'f323a54a-b5ba-464b-b3d3-6d09c2a7e3ad',\n",
              "                        [{\"alignmentgroup\": \"True\", \"bingroup\": \"x\", \"hoverlabel\": {\"namelength\": 0}, \"hovertemplate\": \"author_name=Kahlil Gibran<br>year=%{x}<br>count of editions=%{y}\", \"legendgroup\": \"author_name=Kahlil Gibran\", \"marker\": {\"color\": \"#636efa\"}, \"name\": \"author_name=Kahlil Gibran\", \"offsetgroup\": \"author_name=Kahlil Gibran\", \"orientation\": \"v\", \"showlegend\": true, \"type\": \"histogram\", \"x\": [1923, 1912, 1926, 1918, 1914, 1928, 1931, 1923, 1923], \"xaxis\": \"x\", \"y\": [200, 213, 116, 267, 164, 127, 87, 47, 5], \"yaxis\": \"y\"}, {\"alignmentgroup\": \"True\", \"bingroup\": \"x\", \"hoverlabel\": {\"namelength\": 0}, \"hovertemplate\": \"author_name=J.D. Salinger<br>year=%{x}<br>count of editions=%{y}\", \"legendgroup\": \"author_name=J.D. Salinger\", \"marker\": {\"color\": \"#EF553B\"}, \"name\": \"author_name=J.D. Salinger\", \"offsetgroup\": \"author_name=J.D. Salinger\", \"orientation\": \"v\", \"showlegend\": true, \"type\": \"histogram\", \"x\": [1951, 1961, 1953, 1955, 1948, 1940, 1965, 1974, 1948, 1949, 1948, 1951, 1948, 1953, 1949, 1952, 1991, 1941, 1944, 1945, 1944, 1945, 1969, 1946, 1942, 1955, 1941, 1944, 1943, 1945, 1945, 1989, 1950, 1990, 1990], \"xaxis\": \"x\", \"y\": [471, 153, 172, 104, 12, 24, 6, 8, 7, 1, 4, 3, 2, 3, 3, 2, 2, 2, 1, 2, 1, 1, 1, 1, 1, 4, 1, 2, 1, 1, 3, 1, 1, 1, 1], \"yaxis\": \"y\"}, {\"alignmentgroup\": \"True\", \"bingroup\": \"x\", \"hoverlabel\": {\"namelength\": 0}, \"hovertemplate\": \"author_name=J.K. Rowling<br>year=%{x}<br>count of editions=%{y}\", \"legendgroup\": \"author_name=J.K. Rowling\", \"marker\": {\"color\": \"#00cc96\"}, \"name\": \"author_name=J.K. Rowling\", \"offsetgroup\": \"author_name=J.K. Rowling\", \"orientation\": \"v\", \"showlegend\": true, \"type\": \"histogram\", \"x\": [1997, 2003, 1999, 2000, 2005, 2012, 2007, 2003, 2007, 2016, 1998, 2015, 2008, 2016, 2018, 2016, 2008, 2003, 2016, 1999, 2012, 2001, 2016, 1999, 2016, 2017, 2016, 2008, 2001, 2001, 2018, 2016, 2015], \"xaxis\": \"x\", \"y\": [14, 12, 10, 8, 16, 157, 11, 7, 145, 89, 11, 37, 190, 22, 65, 19, 1, 12, 21, 22, 26, 5, 3, 16, 3, 2, 1, 1, 1, 1, 1, 1, 1], \"yaxis\": \"y\"}, {\"alignmentgroup\": \"True\", \"bingroup\": \"x\", \"hoverlabel\": {\"namelength\": 0}, \"hovertemplate\": \"author_name=Franz Kafka<br>year=%{x}<br>count of editions=%{y}\", \"legendgroup\": \"author_name=Franz Kafka\", \"marker\": {\"color\": \"#ab63fa\"}, \"name\": \"author_name=Franz Kafka\", \"offsetgroup\": \"author_name=Franz Kafka\", \"orientation\": \"v\", \"showlegend\": true, \"type\": \"histogram\", \"x\": [1915, 1915, 1922, 1915, 1919, 1924, 1918, 1912, 1915, 1922, 1913, 1924, 1912, 1912, 1917, 1924, 1918, 1915, 1913, 1922, 1909, 1919, 1922, 1920, 1920, 1920], \"xaxis\": \"x\", \"y\": [2623, 21, 568, 260, 278, 144, 79, 92, 20, 37, 20, 55, 66, 6, 15, 11, 28, 22, 53, 18, 25, 11, 10, 4, 15, 4], \"yaxis\": \"y\"}, {\"alignmentgroup\": \"True\", \"bingroup\": \"x\", \"hoverlabel\": {\"namelength\": 0}, \"hovertemplate\": \"author_name=Ernest Hemingway<br>year=%{x}<br>count of editions=%{y}\", \"legendgroup\": \"author_name=Ernest Hemingway\", \"marker\": {\"color\": \"#FFA15A\"}, \"name\": \"author_name=Ernest Hemingway\", \"offsetgroup\": \"author_name=Ernest Hemingway\", \"orientation\": \"v\", \"showlegend\": true, \"type\": \"histogram\", \"x\": [1952, 1925, 1926, 1929, 1940, 1961, 1937, 1924, 1927, 1927, 1935, 1950, 1932, 1926, 1926, 1936, 1938, 1936, 1938, 1933, 1925, 1925, 1947, 1936, 1927, 1942, 1942, 1933, 1927, 1924, 1936, 1927, 1923, 1925, 1953, 1938, 1925, 1927], \"xaxis\": \"x\", \"y\": [201, 67, 1145, 1114, 559, 152, 183, 104, 360, 10, 56, 223, 283, 7, 46, 13, 186, 19, 50, 151, 13, 4, 9, 6, 5, 11, 1, 3, 3, 2, 7, 10, 37, 3, 8, 9, 3, 11], \"yaxis\": \"y\"}],\n",
              "                        {\"barmode\": \"relative\", \"legend\": {\"tracegroupgap\": 0}, \"margin\": {\"t\": 60}, \"template\": {\"data\": {\"bar\": [{\"error_x\": {\"color\": \"#2a3f5f\"}, \"error_y\": {\"color\": \"#2a3f5f\"}, \"marker\": {\"line\": {\"color\": \"#E5ECF6\", \"width\": 0.5}}, \"type\": \"bar\"}], \"barpolar\": [{\"marker\": {\"line\": {\"color\": \"#E5ECF6\", \"width\": 0.5}}, \"type\": \"barpolar\"}], \"carpet\": [{\"aaxis\": {\"endlinecolor\": \"#2a3f5f\", \"gridcolor\": \"white\", \"linecolor\": \"white\", \"minorgridcolor\": \"white\", \"startlinecolor\": \"#2a3f5f\"}, \"baxis\": {\"endlinecolor\": \"#2a3f5f\", \"gridcolor\": \"white\", \"linecolor\": \"white\", \"minorgridcolor\": \"white\", \"startlinecolor\": \"#2a3f5f\"}, \"type\": \"carpet\"}], \"choropleth\": [{\"colorbar\": {\"outlinewidth\": 0, \"ticks\": \"\"}, \"type\": \"choropleth\"}], \"contour\": [{\"colorbar\": {\"outlinewidth\": 0, \"ticks\": \"\"}, \"colorscale\": [[0.0, \"#0d0887\"], [0.1111111111111111, \"#46039f\"], [0.2222222222222222, \"#7201a8\"], [0.3333333333333333, \"#9c179e\"], [0.4444444444444444, \"#bd3786\"], [0.5555555555555556, \"#d8576b\"], [0.6666666666666666, \"#ed7953\"], [0.7777777777777778, \"#fb9f3a\"], [0.8888888888888888, \"#fdca26\"], [1.0, \"#f0f921\"]], \"type\": \"contour\"}], \"contourcarpet\": [{\"colorbar\": {\"outlinewidth\": 0, \"ticks\": \"\"}, \"type\": \"contourcarpet\"}], \"heatmap\": [{\"colorbar\": {\"outlinewidth\": 0, \"ticks\": \"\"}, \"colorscale\": [[0.0, \"#0d0887\"], [0.1111111111111111, \"#46039f\"], [0.2222222222222222, \"#7201a8\"], [0.3333333333333333, \"#9c179e\"], [0.4444444444444444, \"#bd3786\"], [0.5555555555555556, \"#d8576b\"], [0.6666666666666666, \"#ed7953\"], [0.7777777777777778, \"#fb9f3a\"], [0.8888888888888888, \"#fdca26\"], [1.0, \"#f0f921\"]], \"type\": \"heatmap\"}], \"heatmapgl\": [{\"colorbar\": {\"outlinewidth\": 0, \"ticks\": \"\"}, \"colorscale\": [[0.0, \"#0d0887\"], [0.1111111111111111, \"#46039f\"], [0.2222222222222222, \"#7201a8\"], [0.3333333333333333, \"#9c179e\"], [0.4444444444444444, \"#bd3786\"], [0.5555555555555556, \"#d8576b\"], [0.6666666666666666, \"#ed7953\"], [0.7777777777777778, \"#fb9f3a\"], [0.8888888888888888, \"#fdca26\"], [1.0, \"#f0f921\"]], \"type\": \"heatmapgl\"}], \"histogram\": [{\"marker\": {\"colorbar\": {\"outlinewidth\": 0, \"ticks\": \"\"}}, \"type\": \"histogram\"}], \"histogram2d\": [{\"colorbar\": {\"outlinewidth\": 0, \"ticks\": \"\"}, \"colorscale\": [[0.0, \"#0d0887\"], [0.1111111111111111, \"#46039f\"], [0.2222222222222222, \"#7201a8\"], [0.3333333333333333, \"#9c179e\"], [0.4444444444444444, \"#bd3786\"], [0.5555555555555556, \"#d8576b\"], [0.6666666666666666, \"#ed7953\"], [0.7777777777777778, \"#fb9f3a\"], [0.8888888888888888, \"#fdca26\"], [1.0, \"#f0f921\"]], \"type\": \"histogram2d\"}], \"histogram2dcontour\": [{\"colorbar\": {\"outlinewidth\": 0, \"ticks\": \"\"}, \"colorscale\": [[0.0, \"#0d0887\"], [0.1111111111111111, \"#46039f\"], [0.2222222222222222, \"#7201a8\"], [0.3333333333333333, \"#9c179e\"], [0.4444444444444444, \"#bd3786\"], [0.5555555555555556, \"#d8576b\"], [0.6666666666666666, \"#ed7953\"], [0.7777777777777778, \"#fb9f3a\"], [0.8888888888888888, \"#fdca26\"], [1.0, \"#f0f921\"]], \"type\": \"histogram2dcontour\"}], \"mesh3d\": [{\"colorbar\": {\"outlinewidth\": 0, \"ticks\": \"\"}, \"type\": \"mesh3d\"}], \"parcoords\": [{\"line\": {\"colorbar\": {\"outlinewidth\": 0, \"ticks\": \"\"}}, \"type\": \"parcoords\"}], \"pie\": [{\"automargin\": true, \"type\": \"pie\"}], \"scatter\": [{\"marker\": {\"colorbar\": {\"outlinewidth\": 0, \"ticks\": \"\"}}, \"type\": \"scatter\"}], \"scatter3d\": [{\"line\": {\"colorbar\": {\"outlinewidth\": 0, \"ticks\": \"\"}}, \"marker\": {\"colorbar\": {\"outlinewidth\": 0, \"ticks\": \"\"}}, \"type\": \"scatter3d\"}], \"scattercarpet\": [{\"marker\": {\"colorbar\": {\"outlinewidth\": 0, \"ticks\": \"\"}}, \"type\": \"scattercarpet\"}], \"scattergeo\": [{\"marker\": {\"colorbar\": {\"outlinewidth\": 0, \"ticks\": \"\"}}, \"type\": \"scattergeo\"}], \"scattergl\": [{\"marker\": {\"colorbar\": {\"outlinewidth\": 0, \"ticks\": \"\"}}, \"type\": \"scattergl\"}], \"scattermapbox\": [{\"marker\": {\"colorbar\": {\"outlinewidth\": 0, \"ticks\": \"\"}}, \"type\": \"scattermapbox\"}], \"scatterpolar\": [{\"marker\": {\"colorbar\": {\"outlinewidth\": 0, \"ticks\": \"\"}}, \"type\": \"scatterpolar\"}], \"scatterpolargl\": [{\"marker\": {\"colorbar\": {\"outlinewidth\": 0, \"ticks\": \"\"}}, \"type\": \"scatterpolargl\"}], \"scatterternary\": [{\"marker\": {\"colorbar\": {\"outlinewidth\": 0, \"ticks\": \"\"}}, \"type\": \"scatterternary\"}], \"surface\": [{\"colorbar\": {\"outlinewidth\": 0, \"ticks\": \"\"}, \"colorscale\": [[0.0, \"#0d0887\"], [0.1111111111111111, \"#46039f\"], [0.2222222222222222, \"#7201a8\"], [0.3333333333333333, \"#9c179e\"], [0.4444444444444444, \"#bd3786\"], [0.5555555555555556, \"#d8576b\"], [0.6666666666666666, \"#ed7953\"], [0.7777777777777778, \"#fb9f3a\"], [0.8888888888888888, \"#fdca26\"], [1.0, \"#f0f921\"]], \"type\": \"surface\"}], \"table\": [{\"cells\": {\"fill\": {\"color\": \"#EBF0F8\"}, \"line\": {\"color\": \"white\"}}, \"header\": {\"fill\": {\"color\": \"#C8D4E3\"}, \"line\": {\"color\": \"white\"}}, \"type\": \"table\"}]}, \"layout\": {\"annotationdefaults\": {\"arrowcolor\": \"#2a3f5f\", \"arrowhead\": 0, \"arrowwidth\": 1}, \"coloraxis\": {\"colorbar\": {\"outlinewidth\": 0, \"ticks\": \"\"}}, \"colorscale\": {\"diverging\": [[0, \"#8e0152\"], [0.1, \"#c51b7d\"], [0.2, \"#de77ae\"], [0.3, \"#f1b6da\"], [0.4, \"#fde0ef\"], [0.5, \"#f7f7f7\"], [0.6, \"#e6f5d0\"], [0.7, \"#b8e186\"], [0.8, \"#7fbc41\"], [0.9, \"#4d9221\"], [1, \"#276419\"]], \"sequential\": [[0.0, \"#0d0887\"], [0.1111111111111111, \"#46039f\"], [0.2222222222222222, \"#7201a8\"], [0.3333333333333333, \"#9c179e\"], [0.4444444444444444, \"#bd3786\"], [0.5555555555555556, \"#d8576b\"], [0.6666666666666666, \"#ed7953\"], [0.7777777777777778, \"#fb9f3a\"], [0.8888888888888888, \"#fdca26\"], [1.0, \"#f0f921\"]], \"sequentialminus\": [[0.0, \"#0d0887\"], [0.1111111111111111, \"#46039f\"], [0.2222222222222222, \"#7201a8\"], [0.3333333333333333, \"#9c179e\"], [0.4444444444444444, \"#bd3786\"], [0.5555555555555556, \"#d8576b\"], [0.6666666666666666, \"#ed7953\"], [0.7777777777777778, \"#fb9f3a\"], [0.8888888888888888, \"#fdca26\"], [1.0, \"#f0f921\"]]}, \"colorway\": [\"#636efa\", \"#EF553B\", \"#00cc96\", \"#ab63fa\", \"#FFA15A\", \"#19d3f3\", \"#FF6692\", \"#B6E880\", \"#FF97FF\", \"#FECB52\"], \"font\": {\"color\": \"#2a3f5f\"}, \"geo\": {\"bgcolor\": \"white\", \"lakecolor\": \"white\", \"landcolor\": \"#E5ECF6\", \"showlakes\": true, \"showland\": true, \"subunitcolor\": \"white\"}, \"hoverlabel\": {\"align\": \"left\"}, \"hovermode\": \"closest\", \"mapbox\": {\"style\": \"light\"}, \"paper_bgcolor\": \"white\", \"plot_bgcolor\": \"#E5ECF6\", \"polar\": {\"angularaxis\": {\"gridcolor\": \"white\", \"linecolor\": \"white\", \"ticks\": \"\"}, \"bgcolor\": \"#E5ECF6\", \"radialaxis\": {\"gridcolor\": \"white\", \"linecolor\": \"white\", \"ticks\": \"\"}}, \"scene\": {\"xaxis\": {\"backgroundcolor\": \"#E5ECF6\", \"gridcolor\": \"white\", \"gridwidth\": 2, \"linecolor\": \"white\", \"showbackground\": true, \"ticks\": \"\", \"zerolinecolor\": \"white\"}, \"yaxis\": {\"backgroundcolor\": \"#E5ECF6\", \"gridcolor\": \"white\", \"gridwidth\": 2, \"linecolor\": \"white\", \"showbackground\": true, \"ticks\": \"\", \"zerolinecolor\": \"white\"}, \"zaxis\": {\"backgroundcolor\": \"#E5ECF6\", \"gridcolor\": \"white\", \"gridwidth\": 2, \"linecolor\": \"white\", \"showbackground\": true, \"ticks\": \"\", \"zerolinecolor\": \"white\"}}, \"shapedefaults\": {\"line\": {\"color\": \"#2a3f5f\"}}, \"ternary\": {\"aaxis\": {\"gridcolor\": \"white\", \"linecolor\": \"white\", \"ticks\": \"\"}, \"baxis\": {\"gridcolor\": \"white\", \"linecolor\": \"white\", \"ticks\": \"\"}, \"bgcolor\": \"#E5ECF6\", \"caxis\": {\"gridcolor\": \"white\", \"linecolor\": \"white\", \"ticks\": \"\"}}, \"title\": {\"x\": 0.05}, \"xaxis\": {\"automargin\": true, \"gridcolor\": \"white\", \"linecolor\": \"white\", \"ticks\": \"\", \"title\": {\"standoff\": 15}, \"zerolinecolor\": \"white\", \"zerolinewidth\": 2}, \"yaxis\": {\"automargin\": true, \"gridcolor\": \"white\", \"linecolor\": \"white\", \"ticks\": \"\", \"title\": {\"standoff\": 15}, \"zerolinecolor\": \"white\", \"zerolinewidth\": 2}}}, \"xaxis\": {\"anchor\": \"y\", \"domain\": [0.0, 1.0], \"title\": {\"text\": \"year\"}}, \"yaxis\": {\"anchor\": \"x\", \"domain\": [0.0, 1.0], \"title\": {\"text\": \"count of editions\"}}},\n",
              "                        {\"responsive\": true}\n",
              "                    ).then(function(){\n",
              "                            \n",
              "var gd = document.getElementById('f323a54a-b5ba-464b-b3d3-6d09c2a7e3ad');\n",
              "var x = new MutationObserver(function (mutations, observer) {{\n",
              "        var display = window.getComputedStyle(gd).display;\n",
              "        if (!display || display === 'none') {{\n",
              "            console.log([gd, 'removed!']);\n",
              "            Plotly.purge(gd);\n",
              "            observer.disconnect();\n",
              "        }}\n",
              "}});\n",
              "\n",
              "// Listen for the removal of the full notebook cells\n",
              "var notebookContainer = gd.closest('#notebook-container');\n",
              "if (notebookContainer) {{\n",
              "    x.observe(notebookContainer, {childList: true});\n",
              "}}\n",
              "\n",
              "// Listen for the clearing of the current output cell\n",
              "var outputEl = gd.closest('.output');\n",
              "if (outputEl) {{\n",
              "    x.observe(outputEl, {childList: true});\n",
              "}}\n",
              "\n",
              "                        })\n",
              "                };\n",
              "                \n",
              "            </script>\n",
              "        </div>\n",
              "</body>\n",
              "</html>"
            ]
          },
          "metadata": {
            "tags": []
          }
        }
      ]
    },
    {
      "cell_type": "markdown",
      "metadata": {
        "id": "Rr812KG6-mrI",
        "colab_type": "text"
      },
      "source": [
        "Authors' work age and their works quality according to popularity and ratings"
      ]
    },
    {
      "cell_type": "code",
      "metadata": {
        "id": "hucF3QjU-lf9",
        "colab_type": "code",
        "colab": {
          "base_uri": "https://localhost:8080/",
          "height": 542
        },
        "outputId": "cd400b42-8209-4068-801d-c7d66fc9f3ea"
      },
      "source": [
        "fig = px.scatter(df_clean, x=\"work_age\", y=\"avg_rating\", color=\"author_name\",\n",
        "                 size='editions', hover_data=['ratings_count'])\n",
        "fig.show(renderer=\"colab\")"
      ],
      "execution_count": null,
      "outputs": [
        {
          "output_type": "display_data",
          "data": {
            "text/html": [
              "<html>\n",
              "<head><meta charset=\"utf-8\" /></head>\n",
              "<body>\n",
              "    <div>\n",
              "            <script src=\"https://cdnjs.cloudflare.com/ajax/libs/mathjax/2.7.5/MathJax.js?config=TeX-AMS-MML_SVG\"></script><script type=\"text/javascript\">if (window.MathJax) {MathJax.Hub.Config({SVG: {font: \"STIX-Web\"}});}</script>\n",
              "                <script type=\"text/javascript\">window.PlotlyConfig = {MathJaxConfig: 'local'};</script>\n",
              "        <script src=\"https://cdn.plot.ly/plotly-latest.min.js\"></script>    \n",
              "            <div id=\"3cfd4a95-8a1b-485e-b287-69a8cb75476c\" class=\"plotly-graph-div\" style=\"height:525px; width:100%;\"></div>\n",
              "            <script type=\"text/javascript\">\n",
              "                \n",
              "                    window.PLOTLYENV=window.PLOTLYENV || {};\n",
              "                    \n",
              "                if (document.getElementById(\"3cfd4a95-8a1b-485e-b287-69a8cb75476c\")) {\n",
              "                    Plotly.newPlot(\n",
              "                        '3cfd4a95-8a1b-485e-b287-69a8cb75476c',\n",
              "                        [{\"customdata\": [[227096], [16504], [5581], [7620], [4530], [2229], [3077], [771], [81]], \"hoverlabel\": {\"namelength\": 0}, \"hovertemplate\": \"author_name=Kahlil Gibran<br>work_age=%{x}<br>avg_rating=%{y}<br>editions=%{marker.size}<br>ratings_count=%{customdata[0]}\", \"legendgroup\": \"author_name=Kahlil Gibran\", \"marker\": {\"color\": \"#636efa\", \"size\": [200, 213, 116, 267, 164, 127, 87, 47, 5], \"sizemode\": \"area\", \"sizeref\": 6.5575, \"symbol\": \"circle\"}, \"mode\": \"markers\", \"name\": \"author_name=Kahlil Gibran\", \"showlegend\": true, \"type\": \"scatter\", \"x\": [40, 29, 43, 35, 31, 45, 48, 40, 40], \"xaxis\": \"x\", \"y\": [4.23, 3.93, 4.07, 4.07, 4.0, 3.98, 3.84, 3.73, 4.11], \"yaxis\": \"y\"}, {\"customdata\": [[2675185], [183074], [130971], [45711], [8269], [2330], [1116], [799], [497], [481], [338], [334], [267], [345], [174], [141], [79], [115], [31], [38], [33], [28], [49], [40], [25], [38], [21], [23], [22], [21], [17], [5], [14], [11], [2]], \"hoverlabel\": {\"namelength\": 0}, \"hovertemplate\": \"author_name=J.D. Salinger<br>work_age=%{x}<br>avg_rating=%{y}<br>editions=%{marker.size}<br>ratings_count=%{customdata[0]}\", \"legendgroup\": \"author_name=J.D. Salinger\", \"marker\": {\"color\": \"#EF553B\", \"size\": [471, 153, 172, 104, 12, 24, 6, 8, 7, 1, 4, 3, 2, 3, 3, 2, 2, 2, 1, 2, 1, 1, 1, 1, 1, 4, 1, 2, 1, 1, 3, 1, 1, 1, 1], \"sizemode\": \"area\", \"sizeref\": 6.5575, \"symbol\": \"circle\"}, \"mode\": \"markers\", \"name\": \"author_name=J.D. Salinger\", \"showlegend\": true, \"type\": \"scatter\", \"x\": [32, 42, 34, 36, 29, 21, 46, 55, 29, 30, 29, 32, 29, 34, 30, 33, 72, 22, 25, 26, 25, 26, 50, 27, 23, 36, 22, 25, 24, 26, 26, 70, 31, 71, 71], \"xaxis\": \"x\", \"y\": [3.81, 3.98, 4.19, 4.11, 4.33, 3.66, 3.66, 4.28, 3.9, 3.81, 3.69, 3.98, 3.66, 4.42, 3.49, 3.81, 3.41, 4.43, 4.1, 4.03, 3.79, 4.07, 3.37, 4.2, 3.88, 3.45, 3.62, 4.22, 3.95, 4.14, 3.71, 4.2, 3.79, 4.18, 4.0], \"yaxis\": \"y\"}, {\"customdata\": [[6817537], [2432534], [2708002], [2513228], [2366523], [298432], [2728200], [75623], [245881], [116522], [2637403], [23113], [394666], [36514], [24368], [25205], [19122], [48418], [25454], [52691], [6992], [12741], [976], [6852], [1051], [1660], [341], [119], [34], [41], [68], [53], [30]], \"hoverlabel\": {\"namelength\": 0}, \"hovertemplate\": \"author_name=J.K. Rowling<br>work_age=%{x}<br>avg_rating=%{y}<br>editions=%{marker.size}<br>ratings_count=%{customdata[0]}\", \"legendgroup\": \"author_name=J.K. Rowling\", \"marker\": {\"color\": \"#00cc96\", \"size\": [14, 12, 10, 8, 16, 157, 11, 7, 145, 89, 11, 37, 190, 22, 65, 19, 1, 12, 21, 22, 26, 5, 3, 16, 3, 2, 1, 1, 1, 1, 1, 1, 1], \"sizemode\": \"area\", \"sizeref\": 6.5575, \"symbol\": \"circle\"}, \"mode\": \"markers\", \"name\": \"author_name=J.K. Rowling\", \"showlegend\": true, \"type\": \"scatter\", \"x\": [32, 38, 34, 35, 40, 47, 42, 38, 42, 51, 33, 50, 43, 51, 53, 51, 43, 38, 51, 34, 47, 36, 51, 34, 51, 52, 51, 43, 36, 36, 53, 51, 50], \"xaxis\": \"x\", \"y\": [4.47, 4.5, 4.57, 4.56, 4.57, 3.3, 4.62, 4.63, 4.74, 4.26, 4.43, 4.2, 4.07, 4.23, 4.1, 4.21, 4.18, 4.78, 4.19, 4.68, 4.46, 4.4, 4.31, 4.66, 4.79, 4.06, 4.03, 4.08, 4.62, 4.51, 4.56, 4.53, 4.6], \"yaxis\": \"y\"}, {\"customdata\": [[614425], [15203], [43013], [52340], [15731], [12128], [3718], [5284], [970], [1848], [643], [700], [941], [968], [615], [354], [598], [694], [441], [237], [320], [411], [200], [143], [299], [83]], \"hoverlabel\": {\"namelength\": 0}, \"hovertemplate\": \"author_name=Franz Kafka<br>work_age=%{x}<br>avg_rating=%{y}<br>editions=%{marker.size}<br>ratings_count=%{customdata[0]}\", \"legendgroup\": \"author_name=Franz Kafka\", \"marker\": {\"color\": \"#ab63fa\", \"size\": [2623, 21, 568, 260, 278, 144, 79, 92, 20, 37, 20, 55, 66, 6, 15, 11, 28, 22, 53, 18, 25, 11, 10, 4, 15, 4], \"sizemode\": \"area\", \"sizeref\": 6.5575, \"symbol\": \"circle\"}, \"mode\": \"markers\", \"name\": \"author_name=Franz Kafka\", \"showlegend\": true, \"type\": \"scatter\", \"x\": [32, 32, 39, 32, 36, 41, 35, 29, 32, 39, 30, 41, 29, 29, 34, 41, 35, 32, 30, 39, 26, 36, 39, 37, 37, 37], \"xaxis\": \"x\", \"y\": [3.82, 4.05, 3.96, 4.03, 3.97, 4.13, 3.7, 3.78, 3.89, 3.14, 3.95, 3.83, 3.64, 3.97, 3.8, 3.46, 4.03, 4.01, 3.32, 3.84, 3.26, 3.8, 3.46, 3.78, 3.6, 3.86], \"yaxis\": \"y\"}, {\"customdata\": [[806286], [32943], [360543], [258058], [245410], [32906], [24834], [18902], [9440], [10774], [9409], [7368], [7529], [4680], [3352], [1557], [1485], [2339], [1253], [1662], [899], [439], [353], [803], [433], [173], [12], [274], [380], [235], [365], [423], [227], [216], [49], [221], [175], [169]], \"hoverlabel\": {\"namelength\": 0}, \"hovertemplate\": \"author_name=Ernest Hemingway<br>work_age=%{x}<br>avg_rating=%{y}<br>editions=%{marker.size}<br>ratings_count=%{customdata[0]}\", \"legendgroup\": \"author_name=Ernest Hemingway\", \"marker\": {\"color\": \"#FFA15A\", \"size\": [201, 67, 1145, 1114, 559, 152, 183, 104, 360, 10, 56, 223, 283, 7, 46, 13, 186, 19, 50, 151, 13, 4, 9, 6, 5, 11, 1, 3, 3, 2, 7, 10, 37, 3, 8, 9, 3, 11], \"sizemode\": \"area\", \"sizeref\": 6.5575, \"symbol\": \"circle\"}, \"mode\": \"markers\", \"name\": \"author_name=Ernest Hemingway\", \"showlegend\": true, \"type\": \"scatter\", \"x\": [53, 26, 27, 30, 41, 62, 38, 25, 28, 28, 36, 51, 33, 27, 27, 37, 39, 37, 39, 34, 26, 26, 48, 37, 28, 43, 43, 34, 28, 25, 37, 28, 24, 26, 54, 39, 26, 28], \"xaxis\": \"x\", \"y\": [3.78, 4.29, 3.82, 3.81, 3.97, 3.87, 3.56, 3.78, 3.65, 3.92, 3.56, 3.33, 3.7, 4.15, 3.15, 3.52, 3.97, 4.05, 3.57, 3.72, 3.89, 3.57, 3.8, 3.79, 3.43, 4.01, 3.92, 3.44, 3.35, 3.19, 3.89, 3.22, 3.37, 3.45, 4.06, 4.0, 3.12, 3.3], \"yaxis\": \"y\"}],\n",
              "                        {\"legend\": {\"itemsizing\": \"constant\", \"tracegroupgap\": 0}, \"margin\": {\"t\": 60}, \"template\": {\"data\": {\"bar\": [{\"error_x\": {\"color\": \"#2a3f5f\"}, \"error_y\": {\"color\": \"#2a3f5f\"}, \"marker\": {\"line\": {\"color\": \"#E5ECF6\", \"width\": 0.5}}, \"type\": \"bar\"}], \"barpolar\": [{\"marker\": {\"line\": {\"color\": \"#E5ECF6\", \"width\": 0.5}}, \"type\": \"barpolar\"}], \"carpet\": [{\"aaxis\": {\"endlinecolor\": \"#2a3f5f\", \"gridcolor\": \"white\", \"linecolor\": \"white\", \"minorgridcolor\": \"white\", \"startlinecolor\": \"#2a3f5f\"}, \"baxis\": {\"endlinecolor\": \"#2a3f5f\", \"gridcolor\": \"white\", \"linecolor\": \"white\", \"minorgridcolor\": \"white\", \"startlinecolor\": \"#2a3f5f\"}, \"type\": \"carpet\"}], \"choropleth\": [{\"colorbar\": {\"outlinewidth\": 0, \"ticks\": \"\"}, \"type\": \"choropleth\"}], \"contour\": [{\"colorbar\": {\"outlinewidth\": 0, \"ticks\": \"\"}, \"colorscale\": [[0.0, \"#0d0887\"], [0.1111111111111111, \"#46039f\"], [0.2222222222222222, \"#7201a8\"], [0.3333333333333333, \"#9c179e\"], [0.4444444444444444, \"#bd3786\"], [0.5555555555555556, \"#d8576b\"], [0.6666666666666666, \"#ed7953\"], [0.7777777777777778, \"#fb9f3a\"], [0.8888888888888888, \"#fdca26\"], [1.0, \"#f0f921\"]], \"type\": \"contour\"}], \"contourcarpet\": [{\"colorbar\": {\"outlinewidth\": 0, \"ticks\": \"\"}, \"type\": \"contourcarpet\"}], \"heatmap\": [{\"colorbar\": {\"outlinewidth\": 0, \"ticks\": \"\"}, \"colorscale\": [[0.0, \"#0d0887\"], [0.1111111111111111, \"#46039f\"], [0.2222222222222222, \"#7201a8\"], [0.3333333333333333, \"#9c179e\"], [0.4444444444444444, \"#bd3786\"], [0.5555555555555556, \"#d8576b\"], [0.6666666666666666, \"#ed7953\"], [0.7777777777777778, \"#fb9f3a\"], [0.8888888888888888, \"#fdca26\"], [1.0, \"#f0f921\"]], \"type\": \"heatmap\"}], \"heatmapgl\": [{\"colorbar\": {\"outlinewidth\": 0, \"ticks\": \"\"}, \"colorscale\": [[0.0, \"#0d0887\"], [0.1111111111111111, \"#46039f\"], [0.2222222222222222, \"#7201a8\"], [0.3333333333333333, \"#9c179e\"], [0.4444444444444444, \"#bd3786\"], [0.5555555555555556, \"#d8576b\"], [0.6666666666666666, \"#ed7953\"], [0.7777777777777778, \"#fb9f3a\"], [0.8888888888888888, \"#fdca26\"], [1.0, \"#f0f921\"]], \"type\": \"heatmapgl\"}], \"histogram\": [{\"marker\": {\"colorbar\": {\"outlinewidth\": 0, \"ticks\": \"\"}}, \"type\": \"histogram\"}], \"histogram2d\": [{\"colorbar\": {\"outlinewidth\": 0, \"ticks\": \"\"}, \"colorscale\": [[0.0, \"#0d0887\"], [0.1111111111111111, \"#46039f\"], [0.2222222222222222, \"#7201a8\"], [0.3333333333333333, \"#9c179e\"], [0.4444444444444444, \"#bd3786\"], [0.5555555555555556, \"#d8576b\"], [0.6666666666666666, \"#ed7953\"], [0.7777777777777778, \"#fb9f3a\"], [0.8888888888888888, \"#fdca26\"], [1.0, \"#f0f921\"]], \"type\": \"histogram2d\"}], \"histogram2dcontour\": [{\"colorbar\": {\"outlinewidth\": 0, \"ticks\": \"\"}, \"colorscale\": [[0.0, \"#0d0887\"], [0.1111111111111111, \"#46039f\"], [0.2222222222222222, \"#7201a8\"], [0.3333333333333333, \"#9c179e\"], [0.4444444444444444, \"#bd3786\"], [0.5555555555555556, \"#d8576b\"], [0.6666666666666666, \"#ed7953\"], [0.7777777777777778, \"#fb9f3a\"], [0.8888888888888888, \"#fdca26\"], [1.0, \"#f0f921\"]], \"type\": \"histogram2dcontour\"}], \"mesh3d\": [{\"colorbar\": {\"outlinewidth\": 0, \"ticks\": \"\"}, \"type\": \"mesh3d\"}], \"parcoords\": [{\"line\": {\"colorbar\": {\"outlinewidth\": 0, \"ticks\": \"\"}}, \"type\": \"parcoords\"}], \"pie\": [{\"automargin\": true, \"type\": \"pie\"}], \"scatter\": [{\"marker\": {\"colorbar\": {\"outlinewidth\": 0, \"ticks\": \"\"}}, \"type\": \"scatter\"}], \"scatter3d\": [{\"line\": {\"colorbar\": {\"outlinewidth\": 0, \"ticks\": \"\"}}, \"marker\": {\"colorbar\": {\"outlinewidth\": 0, \"ticks\": \"\"}}, \"type\": \"scatter3d\"}], \"scattercarpet\": [{\"marker\": {\"colorbar\": {\"outlinewidth\": 0, \"ticks\": \"\"}}, \"type\": \"scattercarpet\"}], \"scattergeo\": [{\"marker\": {\"colorbar\": {\"outlinewidth\": 0, \"ticks\": \"\"}}, \"type\": \"scattergeo\"}], \"scattergl\": [{\"marker\": {\"colorbar\": {\"outlinewidth\": 0, \"ticks\": \"\"}}, \"type\": \"scattergl\"}], \"scattermapbox\": [{\"marker\": {\"colorbar\": {\"outlinewidth\": 0, \"ticks\": \"\"}}, \"type\": \"scattermapbox\"}], \"scatterpolar\": [{\"marker\": {\"colorbar\": {\"outlinewidth\": 0, \"ticks\": \"\"}}, \"type\": \"scatterpolar\"}], \"scatterpolargl\": [{\"marker\": {\"colorbar\": {\"outlinewidth\": 0, \"ticks\": \"\"}}, \"type\": \"scatterpolargl\"}], \"scatterternary\": [{\"marker\": {\"colorbar\": {\"outlinewidth\": 0, \"ticks\": \"\"}}, \"type\": \"scatterternary\"}], \"surface\": [{\"colorbar\": {\"outlinewidth\": 0, \"ticks\": \"\"}, \"colorscale\": [[0.0, \"#0d0887\"], [0.1111111111111111, \"#46039f\"], [0.2222222222222222, \"#7201a8\"], [0.3333333333333333, \"#9c179e\"], [0.4444444444444444, \"#bd3786\"], [0.5555555555555556, \"#d8576b\"], [0.6666666666666666, \"#ed7953\"], [0.7777777777777778, \"#fb9f3a\"], [0.8888888888888888, \"#fdca26\"], [1.0, \"#f0f921\"]], \"type\": \"surface\"}], \"table\": [{\"cells\": {\"fill\": {\"color\": \"#EBF0F8\"}, \"line\": {\"color\": \"white\"}}, \"header\": {\"fill\": {\"color\": \"#C8D4E3\"}, \"line\": {\"color\": \"white\"}}, \"type\": \"table\"}]}, \"layout\": {\"annotationdefaults\": {\"arrowcolor\": \"#2a3f5f\", \"arrowhead\": 0, \"arrowwidth\": 1}, \"coloraxis\": {\"colorbar\": {\"outlinewidth\": 0, \"ticks\": \"\"}}, \"colorscale\": {\"diverging\": [[0, \"#8e0152\"], [0.1, \"#c51b7d\"], [0.2, \"#de77ae\"], [0.3, \"#f1b6da\"], [0.4, \"#fde0ef\"], [0.5, \"#f7f7f7\"], [0.6, \"#e6f5d0\"], [0.7, \"#b8e186\"], [0.8, \"#7fbc41\"], [0.9, \"#4d9221\"], [1, \"#276419\"]], \"sequential\": [[0.0, \"#0d0887\"], [0.1111111111111111, \"#46039f\"], [0.2222222222222222, \"#7201a8\"], [0.3333333333333333, \"#9c179e\"], [0.4444444444444444, \"#bd3786\"], [0.5555555555555556, \"#d8576b\"], [0.6666666666666666, \"#ed7953\"], [0.7777777777777778, \"#fb9f3a\"], [0.8888888888888888, \"#fdca26\"], [1.0, \"#f0f921\"]], \"sequentialminus\": [[0.0, \"#0d0887\"], [0.1111111111111111, \"#46039f\"], [0.2222222222222222, \"#7201a8\"], [0.3333333333333333, \"#9c179e\"], [0.4444444444444444, \"#bd3786\"], [0.5555555555555556, \"#d8576b\"], [0.6666666666666666, \"#ed7953\"], [0.7777777777777778, \"#fb9f3a\"], [0.8888888888888888, \"#fdca26\"], [1.0, \"#f0f921\"]]}, \"colorway\": [\"#636efa\", \"#EF553B\", \"#00cc96\", \"#ab63fa\", \"#FFA15A\", \"#19d3f3\", \"#FF6692\", \"#B6E880\", \"#FF97FF\", \"#FECB52\"], \"font\": {\"color\": \"#2a3f5f\"}, \"geo\": {\"bgcolor\": \"white\", \"lakecolor\": \"white\", \"landcolor\": \"#E5ECF6\", \"showlakes\": true, \"showland\": true, \"subunitcolor\": \"white\"}, \"hoverlabel\": {\"align\": \"left\"}, \"hovermode\": \"closest\", \"mapbox\": {\"style\": \"light\"}, \"paper_bgcolor\": \"white\", \"plot_bgcolor\": \"#E5ECF6\", \"polar\": {\"angularaxis\": {\"gridcolor\": \"white\", \"linecolor\": \"white\", \"ticks\": \"\"}, \"bgcolor\": \"#E5ECF6\", \"radialaxis\": {\"gridcolor\": \"white\", \"linecolor\": \"white\", \"ticks\": \"\"}}, \"scene\": {\"xaxis\": {\"backgroundcolor\": \"#E5ECF6\", \"gridcolor\": \"white\", \"gridwidth\": 2, \"linecolor\": \"white\", \"showbackground\": true, \"ticks\": \"\", \"zerolinecolor\": \"white\"}, \"yaxis\": {\"backgroundcolor\": \"#E5ECF6\", \"gridcolor\": \"white\", \"gridwidth\": 2, \"linecolor\": \"white\", \"showbackground\": true, \"ticks\": \"\", \"zerolinecolor\": \"white\"}, \"zaxis\": {\"backgroundcolor\": \"#E5ECF6\", \"gridcolor\": \"white\", \"gridwidth\": 2, \"linecolor\": \"white\", \"showbackground\": true, \"ticks\": \"\", \"zerolinecolor\": \"white\"}}, \"shapedefaults\": {\"line\": {\"color\": \"#2a3f5f\"}}, \"ternary\": {\"aaxis\": {\"gridcolor\": \"white\", \"linecolor\": \"white\", \"ticks\": \"\"}, \"baxis\": {\"gridcolor\": \"white\", \"linecolor\": \"white\", \"ticks\": \"\"}, \"bgcolor\": \"#E5ECF6\", \"caxis\": {\"gridcolor\": \"white\", \"linecolor\": \"white\", \"ticks\": \"\"}}, \"title\": {\"x\": 0.05}, \"xaxis\": {\"automargin\": true, \"gridcolor\": \"white\", \"linecolor\": \"white\", \"ticks\": \"\", \"title\": {\"standoff\": 15}, \"zerolinecolor\": \"white\", \"zerolinewidth\": 2}, \"yaxis\": {\"automargin\": true, \"gridcolor\": \"white\", \"linecolor\": \"white\", \"ticks\": \"\", \"title\": {\"standoff\": 15}, \"zerolinecolor\": \"white\", \"zerolinewidth\": 2}}}, \"xaxis\": {\"anchor\": \"y\", \"domain\": [0.0, 1.0], \"title\": {\"text\": \"work_age\"}}, \"yaxis\": {\"anchor\": \"x\", \"domain\": [0.0, 1.0], \"title\": {\"text\": \"avg_rating\"}}},\n",
              "                        {\"responsive\": true}\n",
              "                    ).then(function(){\n",
              "                            \n",
              "var gd = document.getElementById('3cfd4a95-8a1b-485e-b287-69a8cb75476c');\n",
              "var x = new MutationObserver(function (mutations, observer) {{\n",
              "        var display = window.getComputedStyle(gd).display;\n",
              "        if (!display || display === 'none') {{\n",
              "            console.log([gd, 'removed!']);\n",
              "            Plotly.purge(gd);\n",
              "            observer.disconnect();\n",
              "        }}\n",
              "}});\n",
              "\n",
              "// Listen for the removal of the full notebook cells\n",
              "var notebookContainer = gd.closest('#notebook-container');\n",
              "if (notebookContainer) {{\n",
              "    x.observe(notebookContainer, {childList: true});\n",
              "}}\n",
              "\n",
              "// Listen for the clearing of the current output cell\n",
              "var outputEl = gd.closest('.output');\n",
              "if (outputEl) {{\n",
              "    x.observe(outputEl, {childList: true});\n",
              "}}\n",
              "\n",
              "                        })\n",
              "                };\n",
              "                \n",
              "            </script>\n",
              "        </div>\n",
              "</body>\n",
              "</html>"
            ]
          },
          "metadata": {
            "tags": []
          }
        }
      ]
    },
    {
      "cell_type": "markdown",
      "metadata": {
        "id": "j81NVWAtBfjc",
        "colab_type": "text"
      },
      "source": [
        " ## 4.6 Correlation between columns:"
      ]
    },
    {
      "cell_type": "code",
      "metadata": {
        "id": "hS8UkAD8BfHZ",
        "colab_type": "code",
        "colab": {
          "base_uri": "https://localhost:8080/",
          "height": 348
        },
        "outputId": "a0e441df-194f-4d20-8230-88fbdb39d990"
      },
      "source": [
        "corr = df_clean.corr()\n",
        "corr"
      ],
      "execution_count": null,
      "outputs": [
        {
          "output_type": "execute_result",
          "data": {
            "text/html": [
              "<div>\n",
              "<style scoped>\n",
              "    .dataframe tbody tr th:only-of-type {\n",
              "        vertical-align: middle;\n",
              "    }\n",
              "\n",
              "    .dataframe tbody tr th {\n",
              "        vertical-align: top;\n",
              "    }\n",
              "\n",
              "    .dataframe thead th {\n",
              "        text-align: right;\n",
              "    }\n",
              "</style>\n",
              "<table border=\"1\" class=\"dataframe\">\n",
              "  <thead>\n",
              "    <tr style=\"text-align: right;\">\n",
              "      <th></th>\n",
              "      <th>id</th>\n",
              "      <th>author_id</th>\n",
              "      <th>editions</th>\n",
              "      <th>year</th>\n",
              "      <th>avg_rating</th>\n",
              "      <th>ratings_count</th>\n",
              "      <th>text_reviews_count</th>\n",
              "      <th>birth_date</th>\n",
              "      <th>work_age</th>\n",
              "    </tr>\n",
              "  </thead>\n",
              "  <tbody>\n",
              "    <tr>\n",
              "      <th>id</th>\n",
              "      <td>1.000000</td>\n",
              "      <td>-0.052046</td>\n",
              "      <td>-0.254135</td>\n",
              "      <td>0.251614</td>\n",
              "      <td>0.068099</td>\n",
              "      <td>-0.202994</td>\n",
              "      <td>-0.231433</td>\n",
              "      <td>0.239985</td>\n",
              "      <td>0.144601</td>\n",
              "    </tr>\n",
              "    <tr>\n",
              "      <th>author_id</th>\n",
              "      <td>-0.052046</td>\n",
              "      <td>1.000000</td>\n",
              "      <td>-0.022025</td>\n",
              "      <td>0.033253</td>\n",
              "      <td>0.218219</td>\n",
              "      <td>0.023191</td>\n",
              "      <td>0.030915</td>\n",
              "      <td>-0.004449</td>\n",
              "      <td>0.123749</td>\n",
              "    </tr>\n",
              "    <tr>\n",
              "      <th>editions</th>\n",
              "      <td>-0.254135</td>\n",
              "      <td>-0.022025</td>\n",
              "      <td>1.000000</td>\n",
              "      <td>-0.186859</td>\n",
              "      <td>-0.066744</td>\n",
              "      <td>0.060760</td>\n",
              "      <td>0.124168</td>\n",
              "      <td>-0.191517</td>\n",
              "      <td>-0.068918</td>\n",
              "    </tr>\n",
              "    <tr>\n",
              "      <th>year</th>\n",
              "      <td>0.251614</td>\n",
              "      <td>0.033253</td>\n",
              "      <td>-0.186859</td>\n",
              "      <td>1.000000</td>\n",
              "      <td>0.611110</td>\n",
              "      <td>0.277464</td>\n",
              "      <td>0.305090</td>\n",
              "      <td>0.958250</td>\n",
              "      <td>0.561760</td>\n",
              "    </tr>\n",
              "    <tr>\n",
              "      <th>avg_rating</th>\n",
              "      <td>0.068099</td>\n",
              "      <td>0.218219</td>\n",
              "      <td>-0.066744</td>\n",
              "      <td>0.611110</td>\n",
              "      <td>1.000000</td>\n",
              "      <td>0.290358</td>\n",
              "      <td>0.271471</td>\n",
              "      <td>0.623118</td>\n",
              "      <td>0.234732</td>\n",
              "    </tr>\n",
              "    <tr>\n",
              "      <th>ratings_count</th>\n",
              "      <td>-0.202994</td>\n",
              "      <td>0.023191</td>\n",
              "      <td>0.060760</td>\n",
              "      <td>0.277464</td>\n",
              "      <td>0.290358</td>\n",
              "      <td>1.000000</td>\n",
              "      <td>0.974624</td>\n",
              "      <td>0.330777</td>\n",
              "      <td>-0.031901</td>\n",
              "    </tr>\n",
              "    <tr>\n",
              "      <th>text_reviews_count</th>\n",
              "      <td>-0.231433</td>\n",
              "      <td>0.030915</td>\n",
              "      <td>0.124168</td>\n",
              "      <td>0.305090</td>\n",
              "      <td>0.271471</td>\n",
              "      <td>0.974624</td>\n",
              "      <td>1.000000</td>\n",
              "      <td>0.352373</td>\n",
              "      <td>-0.002274</td>\n",
              "    </tr>\n",
              "    <tr>\n",
              "      <th>birth_date</th>\n",
              "      <td>0.239985</td>\n",
              "      <td>-0.004449</td>\n",
              "      <td>-0.191517</td>\n",
              "      <td>0.958250</td>\n",
              "      <td>0.623118</td>\n",
              "      <td>0.330777</td>\n",
              "      <td>0.352373</td>\n",
              "      <td>1.000000</td>\n",
              "      <td>0.301755</td>\n",
              "    </tr>\n",
              "    <tr>\n",
              "      <th>work_age</th>\n",
              "      <td>0.144601</td>\n",
              "      <td>0.123749</td>\n",
              "      <td>-0.068918</td>\n",
              "      <td>0.561760</td>\n",
              "      <td>0.234732</td>\n",
              "      <td>-0.031901</td>\n",
              "      <td>-0.002274</td>\n",
              "      <td>0.301755</td>\n",
              "      <td>1.000000</td>\n",
              "    </tr>\n",
              "  </tbody>\n",
              "</table>\n",
              "</div>"
            ],
            "text/plain": [
              "                          id  author_id  ...  birth_date  work_age\n",
              "id                  1.000000  -0.052046  ...    0.239985  0.144601\n",
              "author_id          -0.052046   1.000000  ...   -0.004449  0.123749\n",
              "editions           -0.254135  -0.022025  ...   -0.191517 -0.068918\n",
              "year                0.251614   0.033253  ...    0.958250  0.561760\n",
              "avg_rating          0.068099   0.218219  ...    0.623118  0.234732\n",
              "ratings_count      -0.202994   0.023191  ...    0.330777 -0.031901\n",
              "text_reviews_count -0.231433   0.030915  ...    0.352373 -0.002274\n",
              "birth_date          0.239985  -0.004449  ...    1.000000  0.301755\n",
              "work_age            0.144601   0.123749  ...    0.301755  1.000000\n",
              "\n",
              "[9 rows x 9 columns]"
            ]
          },
          "metadata": {
            "tags": []
          },
          "execution_count": 33
        }
      ]
    },
    {
      "cell_type": "code",
      "metadata": {
        "id": "qQ5-uKJ1B8-y",
        "colab_type": "code",
        "colab": {
          "base_uri": "https://localhost:8080/",
          "height": 640
        },
        "outputId": "42eea2ab-5e56-4e6f-c46c-e7db411e341a"
      },
      "source": [
        "# Generate a mask for the upper triangle\n",
        "mask = np.triu(np.ones_like(corr, dtype=np.bool))\n",
        "\n",
        "# Set up the matplotlib figure\n",
        "f, ax = plt.subplots(figsize=(11, 9))\n",
        "\n",
        "# Generate a custom diverging colormap\n",
        "cmap = sns.diverging_palette(220, 10, as_cmap=True)\n",
        "\n",
        "# Draw the heatmap with the mask and correct aspect ratio\n",
        "sns.heatmap(corr, mask=mask, cmap=cmap, vmax=.99, center=0,\n",
        "            square=True, linewidths=.5, cbar_kws={\"shrink\": .5})"
      ],
      "execution_count": null,
      "outputs": [
        {
          "output_type": "execute_result",
          "data": {
            "text/plain": [
              "<matplotlib.axes._subplots.AxesSubplot at 0x7fd688ea31d0>"
            ]
          },
          "metadata": {
            "tags": []
          },
          "execution_count": 34
        },
        {
          "output_type": "display_data",
          "data": {
            "image/png": "[encoded data removed]",
            "text/plain": [
              "<Figure size 792x648 with 2 Axes>"
            ]
          },
          "metadata": {
            "tags": [],
            "needs_background": "light"
          }
        }
      ]
    },
    {
      "cell_type": "markdown",
      "metadata": {
        "id": "XrjOkqs7Coeb",
        "colab_type": "text"
      },
      "source": [
        "Observations: There are some noticeable strong positive correlations:\\\n",
        "  . text_reviews_count and rating_counts\\\n",
        "  . avg_rating and year\\\n",
        "  . avg_rating and birht_date\\\n",
        "  . birth_date and year\\\n",
        "  . bith_date and avg_rating\\\n",
        "  . work_age and year\\\n",
        "  . editions and text_reviews_count\n"
      ]
    },
    {
      "cell_type": "markdown",
      "metadata": {
        "id": "phxPULMB-FF9",
        "colab_type": "text"
      },
      "source": [
        "## 4.7 Book recommendations according to published year"
      ]
    },
    {
      "cell_type": "code",
      "metadata": {
        "id": "pgAL3kIh-Rmq",
        "colab_type": "code",
        "colab": {}
      },
      "source": [
        "years = df_clean.year.to_list()\n",
        "def books(year):\n",
        "    df1 = df_clean[['avg_rating','title','year']]\n",
        "    if year in years:\n",
        "        df1 = df1[df1['year'] == year]\n",
        "        print ('Recommended books for this year: ', df1[df1['avg_rating']>=3.5]['title'])\n",
        "    else: print('There is no good books with these authors in this year')"
      ],
      "execution_count": null,
      "outputs": []
    },
    {
      "cell_type": "code",
      "metadata": {
        "id": "mmjriMxw-UT8",
        "colab_type": "code",
        "colab": {
          "base_uri": "https://localhost:8080/",
          "height": 51
        },
        "outputId": "44240d20-6ce1-4a94-a516-a24cacc2672c"
      },
      "source": [
        "books(2017)"
      ],
      "execution_count": null,
      "outputs": [
        {
          "output_type": "stream",
          "text": [
            "Recommended books for this year:  69    The Hogwarts Collection (Pottermore Presents, ...\n",
            "Name: title, dtype: object\n"
          ],
          "name": "stdout"
        }
      ]
    },
    {
      "cell_type": "code",
      "metadata": {
        "id": "wUD1n_qN-Wwx",
        "colab_type": "code",
        "colab": {
          "base_uri": "https://localhost:8080/",
          "height": 34
        },
        "outputId": "0262c923-2f66-47bc-e0ec-a1fc69bf5838"
      },
      "source": [
        "books(2010)"
      ],
      "execution_count": null,
      "outputs": [
        {
          "output_type": "stream",
          "text": [
            "There is no good books with these authors in this year\n"
          ],
          "name": "stdout"
        }
      ]
    },
    {
      "cell_type": "code",
      "metadata": {
        "id": "aCpsCUig8WZu",
        "colab_type": "code",
        "colab": {}
      },
      "source": [
        ""
      ],
      "execution_count": null,
      "outputs": []
    }
  ]
}